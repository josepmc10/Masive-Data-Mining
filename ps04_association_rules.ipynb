{
 "cells": [
  {
   "cell_type": "markdown",
   "metadata": {},
   "source": [
    "Author: <font color=\"blue\">Josep Monclús Carrasco</font>\n",
    "\n",
    "E-mail: <font color=\"blue\">josep.monclus01@estudiant.upf.edu</font>\n",
    "\n",
    "Date: <font color=\"blue\">18/10/2021</font>"
   ]
  },
  {
   "cell_type": "code",
   "execution_count": 1,
   "metadata": {},
   "outputs": [],
   "source": [
    "#We install apyori if we don't have it\n",
    "#!pip install apyori"
   ]
  },
  {
   "cell_type": "code",
   "execution_count": 2,
   "metadata": {},
   "outputs": [],
   "source": [
    "import numpy as np  \n",
    "import matplotlib.pyplot as plt  \n",
    "import pandas as pd  \n",
    "from apyori import apriori"
   ]
  },
  {
   "cell_type": "markdown",
   "metadata": {},
   "source": [
    "# 1. Playing with apyori"
   ]
  },
  {
   "cell_type": "code",
   "execution_count": 3,
   "metadata": {},
   "outputs": [
    {
     "name": "stdout",
     "output_type": "stream",
     "text": [
      "[RelationRecord(items=frozenset({'water', 'almonds'}), support=0.22727272727272727, ordered_statistics=[OrderedStatistic(items_base=frozenset({'water'}), items_add=frozenset({'almonds'}), confidence=0.7142857142857143, lift=1.9642857142857142)])]\n"
     ]
    }
   ],
   "source": [
    "#We crate the transactions\n",
    "transactions = [\n",
    "    [\"chips\",\"cola\"],[\"water\",\"almonds\"],\n",
    "    [\"chips\",\"water\",\"beef\"],[\"almonds\",\"beef\",\"chips\"],\n",
    "    [\"chips\",\"almonds\"],[\"water\",\"almonds\",\"beef\"],\n",
    "    [\"cola\",\"chips\"],[\"water\",\"almonds\"],\n",
    "    [\"chips\"],[\"beef\",\"chips\"],\n",
    "    [\"chips\",\"cola\"],[\"cola\",\"beef\",\"chips\"],\n",
    "    [\"water\",\"almonds\"],[\"almonds\",\"chips\"],\n",
    "    [\"water\",\"cola\"],[\"cola\",\"beef\"],\n",
    "    [\"almonds\",\"water\"],[\"beef\",\"chips\",\"cola\"],\n",
    "    [\"cola\"],[\"beef\",\"cola\"],[\"cola\",\"chips\"],[\"cola\",\"chips\",\"beef\"]\n",
    "]\n",
    "results = list(apriori(transactions, min_support=0.2, min_confidence=0.7, min_lift=1))\n",
    "print(results)"
   ]
  },
  {
   "cell_type": "code",
   "execution_count": 4,
   "metadata": {},
   "outputs": [],
   "source": [
    "# Leave this code as-is\n",
    "\n",
    "def print_apyori_output (association_results):\n",
    "    for relation_record in association_results:\n",
    "        itemset = list(relation_record.items)\n",
    "        \n",
    "        # Consider only itemsets of two elements\n",
    "        if len(itemset) > 1: \n",
    "        \n",
    "            print(\"Rules involving itemset %s\" % itemset)\n",
    "            support = relation_record.support\n",
    "\n",
    "            for rules in relation_record.ordered_statistics:\n",
    "                antecedent = list(rules.items_base)\n",
    "                consequent = list(rules.items_add)\n",
    "                confidence = rules.confidence\n",
    "                lift = rules.lift\n",
    "\n",
    "                print(\"%s => %s (support=%.2f, confidence=%.2f, lift=%.2f)\" %\n",
    "                      (antecedent, consequent, support, confidence, lift))\n",
    "            print()"
   ]
  },
  {
   "cell_type": "code",
   "execution_count": 5,
   "metadata": {},
   "outputs": [
    {
     "name": "stdout",
     "output_type": "stream",
     "text": [
      "Rules involving itemset ['water', 'almonds']\n",
      "['water'] => ['almonds'] (support=0.23, confidence=0.71, lift=1.96)\n",
      "\n"
     ]
    }
   ],
   "source": [
    "print_apyori_output(results)"
   ]
  },
  {
   "cell_type": "markdown",
   "metadata": {},
   "source": [
    "### Confidence"
   ]
  },
  {
   "cell_type": "markdown",
   "metadata": {},
   "source": [
    "$ conf(water \\Rightarrow almonds) = \\frac {sup(water,almonds)}{sup(water)} $\n",
    "\n",
    "$ sup(water,almonds) = \\frac{5}{22} =  0.227 $ \n",
    "\n",
    "**[water,almonds] apears in 5 transactions (you only have to count) of the 22 total transactions**\n",
    "\n",
    "$ sup(water) = \\frac{7}{22} =  0.318 $ \n",
    "\n",
    "**[water] apears in 7 transactions of the 22 total**\n",
    "\n",
    "$ conf(water \\Rightarrow almonds) = \\frac {\\frac{5}{22}}{\\frac{7}{22}} = $ **0.7142**\n"
   ]
  },
  {
   "cell_type": "markdown",
   "metadata": {},
   "source": [
    "### Lift"
   ]
  },
  {
   "cell_type": "markdown",
   "metadata": {},
   "source": [
    "$ lift(water \\Rightarrow almonds) = \\frac {sup(water,almonds)}{sup(water)\\times sup(almond)} $\n",
    "\n",
    "$ sup(water,almonds) = \\frac{5}{22} =  0.227 $\n",
    "\n",
    "$ sup(water) = \\frac{7}{22} =  0.318  $\n",
    "\n",
    "$ sup(almonds) = \\frac{8}{22} =  0.363 $\n",
    "\n",
    "$ lift (water \\Rightarrow almonds) = \\frac {\\frac{5}{22}}{\\frac{7}{22}\\times\\frac{8}{22}} = $ **1.9642** "
   ]
  },
  {
   "cell_type": "markdown",
   "metadata": {},
   "source": [
    "# 2. Load and prepare the services purchased dataset"
   ]
  },
  {
   "cell_type": "code",
   "execution_count": 6,
   "metadata": {},
   "outputs": [],
   "source": [
    "#I change the file path from services_purchased.csv to data/services_purchased.csv\n",
    "INPUT_FILENAME = \"data/services_purchased.csv\""
   ]
  },
  {
   "cell_type": "code",
   "execution_count": 7,
   "metadata": {},
   "outputs": [
    {
     "data": {
      "text/html": [
       "<div>\n",
       "<style scoped>\n",
       "    .dataframe tbody tr th:only-of-type {\n",
       "        vertical-align: middle;\n",
       "    }\n",
       "\n",
       "    .dataframe tbody tr th {\n",
       "        vertical-align: top;\n",
       "    }\n",
       "\n",
       "    .dataframe thead th {\n",
       "        text-align: right;\n",
       "    }\n",
       "</style>\n",
       "<table border=\"1\" class=\"dataframe\">\n",
       "  <thead>\n",
       "    <tr style=\"text-align: right;\">\n",
       "      <th></th>\n",
       "      <th>ID_customer</th>\n",
       "      <th>WEBHOSTING</th>\n",
       "      <th>OFFICESUITE</th>\n",
       "      <th>SECURITY</th>\n",
       "      <th>CLOUD_IAAS</th>\n",
       "      <th>CLOUD_PAAS</th>\n",
       "      <th>CONTENTMGM</th>\n",
       "      <th>CHATBOT</th>\n",
       "      <th>ADVERTISING</th>\n",
       "    </tr>\n",
       "  </thead>\n",
       "  <tbody>\n",
       "    <tr>\n",
       "      <th>0</th>\n",
       "      <td>0</td>\n",
       "      <td>0</td>\n",
       "      <td>0</td>\n",
       "      <td>1</td>\n",
       "      <td>0</td>\n",
       "      <td>0</td>\n",
       "      <td>0</td>\n",
       "      <td>0</td>\n",
       "      <td>0</td>\n",
       "    </tr>\n",
       "    <tr>\n",
       "      <th>1</th>\n",
       "      <td>1</td>\n",
       "      <td>0</td>\n",
       "      <td>1</td>\n",
       "      <td>1</td>\n",
       "      <td>0</td>\n",
       "      <td>0</td>\n",
       "      <td>0</td>\n",
       "      <td>0</td>\n",
       "      <td>0</td>\n",
       "    </tr>\n",
       "    <tr>\n",
       "      <th>2</th>\n",
       "      <td>2</td>\n",
       "      <td>1</td>\n",
       "      <td>0</td>\n",
       "      <td>1</td>\n",
       "      <td>0</td>\n",
       "      <td>0</td>\n",
       "      <td>1</td>\n",
       "      <td>0</td>\n",
       "      <td>0</td>\n",
       "    </tr>\n",
       "    <tr>\n",
       "      <th>3</th>\n",
       "      <td>3</td>\n",
       "      <td>0</td>\n",
       "      <td>0</td>\n",
       "      <td>1</td>\n",
       "      <td>0</td>\n",
       "      <td>0</td>\n",
       "      <td>0</td>\n",
       "      <td>0</td>\n",
       "      <td>0</td>\n",
       "    </tr>\n",
       "    <tr>\n",
       "      <th>4</th>\n",
       "      <td>4</td>\n",
       "      <td>1</td>\n",
       "      <td>1</td>\n",
       "      <td>1</td>\n",
       "      <td>0</td>\n",
       "      <td>0</td>\n",
       "      <td>1</td>\n",
       "      <td>0</td>\n",
       "      <td>0</td>\n",
       "    </tr>\n",
       "  </tbody>\n",
       "</table>\n",
       "</div>"
      ],
      "text/plain": [
       "   ID_customer  WEBHOSTING  OFFICESUITE  SECURITY  CLOUD_IAAS  CLOUD_PAAS  \\\n",
       "0            0           0            0         1           0           0   \n",
       "1            1           0            1         1           0           0   \n",
       "2            2           1            0         1           0           0   \n",
       "3            3           0            0         1           0           0   \n",
       "4            4           1            1         1           0           0   \n",
       "\n",
       "   CONTENTMGM  CHATBOT  ADVERTISING  \n",
       "0           0        0            0  \n",
       "1           0        0            0  \n",
       "2           1        0            0  \n",
       "3           0        0            0  \n",
       "4           1        0            0  "
      ]
     },
     "execution_count": 7,
     "metadata": {},
     "output_type": "execute_result"
    }
   ],
   "source": [
    "dataset = pd.read_csv(INPUT_FILENAME, sep=\",\")\n",
    "dataset.head()"
   ]
  },
  {
   "cell_type": "markdown",
   "metadata": {},
   "source": [
    "As we can see we have a dataframe with 9 columns and 8 of this seems to be binary, 1 if has this category, 0 if not, but for the nexts analisys we do not need ID_customer."
   ]
  },
  {
   "cell_type": "code",
   "execution_count": 8,
   "metadata": {},
   "outputs": [
    {
     "name": "stdout",
     "output_type": "stream",
     "text": [
      "WEBHOSTING: 274\n",
      "OFFICESUITE: 176\n",
      "SECURITY: 608\n",
      "CLOUD_IAAS: 67\n",
      "CLOUD_PAAS: 6\n",
      "CONTENTMGM: 152\n",
      "CHATBOT: 0\n",
      "ADVERTISING: 9\n"
     ]
    }
   ],
   "source": [
    "print(\"WEBHOSTING:\",sum(dataset.WEBHOSTING))\n",
    "print(\"OFFICESUITE:\",sum(dataset.OFFICESUITE))\n",
    "print(\"SECURITY:\",sum(dataset.SECURITY))\n",
    "print(\"CLOUD_IAAS:\",sum(dataset.CLOUD_IAAS))\n",
    "print(\"CLOUD_PAAS:\",sum(dataset.CLOUD_PAAS))\n",
    "print(\"CONTENTMGM:\",sum(dataset.CONTENTMGM))\n",
    "print(\"CHATBOT:\",sum(dataset.CHATBOT))\n",
    "print(\"ADVERTISING:\",sum(dataset.ADVERTISING))"
   ]
  },
  {
   "cell_type": "code",
   "execution_count": 9,
   "metadata": {},
   "outputs": [
    {
     "name": "stdout",
     "output_type": "stream",
     "text": [
      "(1000, 8)\n"
     ]
    }
   ],
   "source": [
    "#We remove the ID_customer column because is not necessary for the analysis\n",
    "dataset1 = dataset.drop(columns = [\"ID_customer\"],axis = 1) \n",
    "print(dataset1.shape)"
   ]
  },
  {
   "cell_type": "code",
   "execution_count": 10,
   "metadata": {},
   "outputs": [
    {
     "name": "stdout",
     "output_type": "stream",
     "text": [
      "(753, 8)\n"
     ]
    }
   ],
   "source": [
    "#We sum the value of all the rows\n",
    "val = dataset1.WEBHOSTING.values + dataset1.OFFICESUITE.values + dataset1.SECURITY.values + dataset1.CLOUD_IAAS.values + dataset1.CLOUD_PAAS.values + dataset1.CONTENTMGM.values + dataset1.CHATBOT.values + dataset1.ADVERTISING.values\n",
    "#We create a auxiliar function\n",
    "def which_zero(lis):\n",
    "    \"\"\"\n",
    "    Auxiliar function that return the index of the list where the value is 0\n",
    "    \"\"\"\n",
    "    #List with the indexs\n",
    "    indexs = []\n",
    "    #We loop through the values\n",
    "    for i,value in enumerate(lis):\n",
    "        if value == 0:\n",
    "            indexs.append(i)\n",
    "    return indexs\n",
    "#We drop the records with all 0\n",
    "dataset2 = dataset1.drop(which_zero(val))\n",
    "print(dataset2.shape)"
   ]
  },
  {
   "cell_type": "code",
   "execution_count": 11,
   "metadata": {},
   "outputs": [
    {
     "name": "stdout",
     "output_type": "stream",
     "text": [
      "[['SECURITY'], ['OFFICESUITE', 'SECURITY'], ['WEBHOSTING', 'SECURITY', 'CONTENTMGM'], ['SECURITY'], ['WEBHOSTING', 'OFFICESUITE', 'SECURITY', 'CONTENTMGM'], ['SECURITY', 'CLOUD_IAAS'], ['SECURITY'], ['SECURITY', 'CONTENTMGM'], ['SECURITY'], ['WEBHOSTING', 'SECURITY'], ['OFFICESUITE'], ['WEBHOSTING', 'SECURITY', 'CONTENTMGM'], ['WEBHOSTING', 'SECURITY'], ['SECURITY', 'ADVERTISING'], ['WEBHOSTING', 'OFFICESUITE', 'SECURITY'], ['WEBHOSTING', 'SECURITY'], ['SECURITY', 'CONTENTMGM'], ['SECURITY'], ['OFFICESUITE'], ['OFFICESUITE', 'SECURITY', 'CONTENTMGM'], ['SECURITY'], ['SECURITY', 'CONTENTMGM'], ['WEBHOSTING', 'OFFICESUITE', 'SECURITY'], ['WEBHOSTING'], ['SECURITY'], ['SECURITY'], ['OFFICESUITE', 'SECURITY', 'CLOUD_IAAS'], ['SECURITY'], ['SECURITY'], ['SECURITY'], ['WEBHOSTING'], ['SECURITY', 'CONTENTMGM'], ['OFFICESUITE', 'SECURITY', 'CLOUD_PAAS'], ['SECURITY'], ['SECURITY'], ['WEBHOSTING', 'SECURITY'], ['SECURITY'], ['SECURITY', 'CONTENTMGM'], ['OFFICESUITE'], ['WEBHOSTING'], ['SECURITY'], ['SECURITY', 'CONTENTMGM'], ['WEBHOSTING'], ['SECURITY', 'CONTENTMGM'], ['SECURITY', 'CONTENTMGM'], ['OFFICESUITE'], ['SECURITY'], ['ADVERTISING'], ['OFFICESUITE'], ['WEBHOSTING', 'OFFICESUITE', 'SECURITY', 'CONTENTMGM'], ['WEBHOSTING', 'SECURITY'], ['SECURITY'], ['SECURITY', 'CONTENTMGM'], ['SECURITY'], ['WEBHOSTING', 'SECURITY'], ['WEBHOSTING'], ['OFFICESUITE', 'CLOUD_IAAS'], ['SECURITY'], ['SECURITY'], ['CLOUD_IAAS'], ['OFFICESUITE', 'SECURITY'], ['OFFICESUITE', 'SECURITY'], ['WEBHOSTING'], ['SECURITY'], ['SECURITY'], ['OFFICESUITE'], ['SECURITY'], ['SECURITY', 'CONTENTMGM'], ['WEBHOSTING', 'SECURITY', 'CLOUD_IAAS'], ['SECURITY', 'CONTENTMGM'], ['WEBHOSTING', 'SECURITY'], ['SECURITY'], ['WEBHOSTING', 'CLOUD_IAAS'], ['WEBHOSTING', 'SECURITY'], ['WEBHOSTING', 'OFFICESUITE', 'SECURITY'], ['WEBHOSTING', 'SECURITY', 'CONTENTMGM'], ['OFFICESUITE', 'SECURITY'], ['SECURITY', 'CONTENTMGM'], ['SECURITY'], ['WEBHOSTING', 'SECURITY', 'CONTENTMGM'], ['SECURITY'], ['WEBHOSTING'], ['WEBHOSTING', 'SECURITY'], ['WEBHOSTING'], ['SECURITY'], ['CLOUD_IAAS'], ['SECURITY'], ['OFFICESUITE', 'SECURITY'], ['SECURITY'], ['SECURITY'], ['SECURITY'], ['SECURITY'], ['SECURITY', 'CLOUD_IAAS'], ['OFFICESUITE'], ['SECURITY', 'CONTENTMGM'], ['WEBHOSTING'], ['WEBHOSTING', 'SECURITY', 'CONTENTMGM'], ['SECURITY'], ['OFFICESUITE', 'SECURITY', 'CLOUD_IAAS', 'CLOUD_PAAS'], ['SECURITY'], ['SECURITY'], ['WEBHOSTING', 'SECURITY'], ['SECURITY'], ['SECURITY', 'CONTENTMGM'], ['SECURITY'], ['SECURITY'], ['SECURITY', 'CLOUD_IAAS', 'CONTENTMGM'], ['OFFICESUITE', 'SECURITY'], ['SECURITY'], ['SECURITY'], ['OFFICESUITE', 'SECURITY', 'CLOUD_IAAS'], ['SECURITY'], ['WEBHOSTING'], ['CONTENTMGM'], ['WEBHOSTING'], ['SECURITY'], ['WEBHOSTING', 'SECURITY', 'CONTENTMGM'], ['SECURITY'], ['WEBHOSTING', 'SECURITY'], ['SECURITY'], ['SECURITY', 'CONTENTMGM'], ['SECURITY'], ['SECURITY'], ['WEBHOSTING', 'SECURITY'], ['SECURITY', 'CONTENTMGM', 'ADVERTISING'], ['SECURITY'], ['SECURITY'], ['SECURITY'], ['SECURITY', 'CONTENTMGM'], ['SECURITY'], ['SECURITY'], ['SECURITY'], ['WEBHOSTING', 'SECURITY'], ['SECURITY'], ['SECURITY'], ['WEBHOSTING', 'SECURITY'], ['SECURITY'], ['SECURITY'], ['CLOUD_IAAS'], ['SECURITY'], ['SECURITY'], ['WEBHOSTING', 'SECURITY', 'CLOUD_IAAS'], ['SECURITY'], ['SECURITY', 'CONTENTMGM'], ['SECURITY'], ['WEBHOSTING', 'SECURITY', 'CONTENTMGM'], ['SECURITY'], ['WEBHOSTING', 'SECURITY'], ['SECURITY'], ['SECURITY'], ['CLOUD_IAAS'], ['SECURITY', 'CONTENTMGM'], ['WEBHOSTING', 'SECURITY'], ['SECURITY'], ['WEBHOSTING', 'SECURITY'], ['WEBHOSTING', 'SECURITY'], ['WEBHOSTING', 'SECURITY'], ['WEBHOSTING', 'SECURITY'], ['WEBHOSTING', 'SECURITY'], ['WEBHOSTING', 'SECURITY'], ['SECURITY'], ['SECURITY', 'CONTENTMGM'], ['WEBHOSTING', 'OFFICESUITE', 'SECURITY', 'CONTENTMGM'], ['SECURITY'], ['WEBHOSTING'], ['WEBHOSTING', 'SECURITY'], ['WEBHOSTING', 'SECURITY', 'CONTENTMGM'], ['WEBHOSTING', 'SECURITY'], ['SECURITY'], ['SECURITY'], ['WEBHOSTING', 'SECURITY'], ['WEBHOSTING', 'OFFICESUITE', 'SECURITY'], ['WEBHOSTING'], ['SECURITY'], ['SECURITY'], ['SECURITY', 'CONTENTMGM', 'ADVERTISING'], ['OFFICESUITE', 'SECURITY'], ['OFFICESUITE', 'SECURITY'], ['OFFICESUITE', 'SECURITY'], ['SECURITY'], ['SECURITY'], ['WEBHOSTING', 'SECURITY', 'CONTENTMGM'], ['WEBHOSTING', 'OFFICESUITE', 'SECURITY', 'CLOUD_IAAS'], ['SECURITY'], ['SECURITY'], ['SECURITY'], ['OFFICESUITE'], ['WEBHOSTING'], ['SECURITY', 'CONTENTMGM'], ['SECURITY'], ['SECURITY', 'CONTENTMGM'], ['WEBHOSTING', 'SECURITY', 'CONTENTMGM'], ['WEBHOSTING', 'SECURITY'], ['SECURITY'], ['SECURITY'], ['SECURITY'], ['OFFICESUITE', 'SECURITY'], ['SECURITY'], ['SECURITY'], ['WEBHOSTING'], ['SECURITY', 'CONTENTMGM'], ['WEBHOSTING', 'OFFICESUITE', 'SECURITY', 'CLOUD_IAAS'], ['SECURITY', 'CONTENTMGM'], ['SECURITY'], ['SECURITY', 'CONTENTMGM'], ['SECURITY'], ['WEBHOSTING'], ['SECURITY', 'CLOUD_IAAS'], ['OFFICESUITE', 'CLOUD_IAAS', 'CONTENTMGM'], ['SECURITY'], ['SECURITY', 'CLOUD_IAAS'], ['WEBHOSTING', 'SECURITY', 'CLOUD_IAAS'], ['WEBHOSTING'], ['WEBHOSTING', 'SECURITY'], ['OFFICESUITE', 'SECURITY'], ['OFFICESUITE', 'SECURITY'], ['SECURITY'], ['WEBHOSTING', 'OFFICESUITE', 'SECURITY'], ['WEBHOSTING', 'OFFICESUITE'], ['SECURITY'], ['WEBHOSTING', 'OFFICESUITE'], ['CLOUD_IAAS'], ['OFFICESUITE', 'SECURITY'], ['SECURITY'], ['CLOUD_IAAS'], ['WEBHOSTING', 'SECURITY'], ['SECURITY'], ['WEBHOSTING', 'OFFICESUITE', 'SECURITY', 'CONTENTMGM'], ['WEBHOSTING', 'OFFICESUITE', 'SECURITY'], ['SECURITY'], ['SECURITY'], ['OFFICESUITE', 'SECURITY'], ['SECURITY'], ['OFFICESUITE', 'SECURITY', 'CONTENTMGM'], ['SECURITY'], ['SECURITY'], ['SECURITY'], ['OFFICESUITE', 'SECURITY'], ['SECURITY'], ['WEBHOSTING'], ['OFFICESUITE', 'SECURITY'], ['SECURITY'], ['WEBHOSTING', 'SECURITY', 'CONTENTMGM'], ['OFFICESUITE', 'SECURITY'], ['SECURITY'], ['SECURITY'], ['OFFICESUITE', 'CLOUD_PAAS', 'CONTENTMGM'], ['WEBHOSTING', 'SECURITY', 'CONTENTMGM'], ['WEBHOSTING'], ['SECURITY'], ['WEBHOSTING'], ['SECURITY', 'CONTENTMGM'], ['SECURITY'], ['WEBHOSTING', 'SECURITY'], ['OFFICESUITE'], ['SECURITY'], ['WEBHOSTING', 'SECURITY'], ['OFFICESUITE', 'SECURITY', 'CONTENTMGM'], ['WEBHOSTING'], ['WEBHOSTING', 'SECURITY'], ['OFFICESUITE', 'SECURITY', 'CLOUD_IAAS'], ['SECURITY', 'CLOUD_IAAS'], ['OFFICESUITE', 'SECURITY'], ['WEBHOSTING'], ['WEBHOSTING', 'CONTENTMGM'], ['WEBHOSTING', 'SECURITY', 'CONTENTMGM'], ['OFFICESUITE', 'SECURITY'], ['WEBHOSTING'], ['SECURITY'], ['SECURITY'], ['WEBHOSTING'], ['SECURITY'], ['SECURITY', 'CONTENTMGM'], ['OFFICESUITE'], ['WEBHOSTING', 'SECURITY'], ['OFFICESUITE'], ['WEBHOSTING', 'SECURITY', 'CONTENTMGM'], ['WEBHOSTING', 'SECURITY'], ['SECURITY'], ['WEBHOSTING', 'OFFICESUITE', 'SECURITY', 'CONTENTMGM'], ['WEBHOSTING'], ['OFFICESUITE', 'SECURITY', 'CONTENTMGM'], ['WEBHOSTING', 'SECURITY', 'CONTENTMGM'], ['WEBHOSTING', 'SECURITY', 'CONTENTMGM'], ['WEBHOSTING'], ['OFFICESUITE', 'SECURITY', 'CLOUD_IAAS', 'CONTENTMGM', 'ADVERTISING'], ['SECURITY'], ['SECURITY'], ['SECURITY'], ['SECURITY'], ['WEBHOSTING', 'SECURITY', 'CONTENTMGM'], ['SECURITY', 'CONTENTMGM'], ['WEBHOSTING'], ['OFFICESUITE', 'SECURITY'], ['WEBHOSTING', 'SECURITY'], ['SECURITY'], ['WEBHOSTING', 'SECURITY'], ['CLOUD_IAAS'], ['WEBHOSTING'], ['WEBHOSTING', 'SECURITY'], ['OFFICESUITE', 'SECURITY', 'CLOUD_IAAS'], ['WEBHOSTING'], ['SECURITY'], ['WEBHOSTING', 'SECURITY'], ['OFFICESUITE'], ['WEBHOSTING'], ['WEBHOSTING', 'SECURITY', 'CLOUD_IAAS'], ['WEBHOSTING', 'SECURITY'], ['SECURITY'], ['SECURITY'], ['SECURITY'], ['WEBHOSTING', 'SECURITY'], ['WEBHOSTING', 'OFFICESUITE', 'CLOUD_IAAS'], ['OFFICESUITE', 'SECURITY'], ['WEBHOSTING'], ['SECURITY', 'CLOUD_IAAS'], ['SECURITY'], ['WEBHOSTING', 'OFFICESUITE', 'SECURITY', 'CONTENTMGM'], ['OFFICESUITE', 'CLOUD_IAAS'], ['WEBHOSTING', 'SECURITY', 'CONTENTMGM'], ['WEBHOSTING', 'SECURITY'], ['SECURITY'], ['SECURITY'], ['SECURITY', 'CONTENTMGM'], ['OFFICESUITE', 'SECURITY'], ['SECURITY'], ['SECURITY'], ['WEBHOSTING'], ['WEBHOSTING', 'SECURITY'], ['WEBHOSTING', 'OFFICESUITE'], ['SECURITY'], ['WEBHOSTING', 'SECURITY', 'CONTENTMGM'], ['WEBHOSTING', 'SECURITY'], ['WEBHOSTING', 'SECURITY'], ['WEBHOSTING', 'OFFICESUITE'], ['SECURITY'], ['WEBHOSTING', 'SECURITY'], ['WEBHOSTING'], ['WEBHOSTING', 'SECURITY'], ['OFFICESUITE'], ['WEBHOSTING'], ['SECURITY'], ['WEBHOSTING', 'SECURITY'], ['WEBHOSTING', 'SECURITY'], ['WEBHOSTING', 'OFFICESUITE', 'SECURITY'], ['WEBHOSTING', 'SECURITY'], ['OFFICESUITE'], ['SECURITY'], ['WEBHOSTING', 'SECURITY'], ['WEBHOSTING', 'SECURITY'], ['WEBHOSTING', 'SECURITY', 'CONTENTMGM'], ['SECURITY', 'CONTENTMGM'], ['SECURITY', 'CLOUD_IAAS'], ['WEBHOSTING', 'SECURITY'], ['OFFICESUITE', 'SECURITY'], ['SECURITY'], ['WEBHOSTING', 'SECURITY'], ['OFFICESUITE', 'SECURITY', 'CLOUD_IAAS', 'CONTENTMGM'], ['CLOUD_IAAS'], ['SECURITY'], ['SECURITY'], ['SECURITY'], ['OFFICESUITE', 'SECURITY', 'CONTENTMGM'], ['ADVERTISING'], ['SECURITY'], ['SECURITY'], ['OFFICESUITE', 'SECURITY', 'CONTENTMGM'], ['OFFICESUITE', 'SECURITY', 'CLOUD_IAAS', 'CLOUD_PAAS', 'CONTENTMGM'], ['WEBHOSTING'], ['OFFICESUITE'], ['SECURITY'], ['SECURITY', 'CONTENTMGM'], ['SECURITY'], ['SECURITY'], ['OFFICESUITE', 'SECURITY'], ['OFFICESUITE'], ['OFFICESUITE', 'SECURITY'], ['OFFICESUITE', 'SECURITY', 'CLOUD_IAAS'], ['WEBHOSTING'], ['WEBHOSTING', 'SECURITY', 'CLOUD_IAAS'], ['OFFICESUITE', 'SECURITY', 'CONTENTMGM'], ['SECURITY'], ['SECURITY', 'CONTENTMGM'], ['SECURITY'], ['WEBHOSTING', 'OFFICESUITE', 'SECURITY'], ['SECURITY', 'CONTENTMGM'], ['WEBHOSTING'], ['OFFICESUITE', 'SECURITY'], ['WEBHOSTING', 'SECURITY'], ['SECURITY', 'CONTENTMGM'], ['WEBHOSTING'], ['SECURITY'], ['SECURITY'], ['OFFICESUITE'], ['SECURITY'], ['OFFICESUITE'], ['WEBHOSTING', 'SECURITY'], ['OFFICESUITE'], ['WEBHOSTING', 'SECURITY', 'CONTENTMGM'], ['WEBHOSTING', 'SECURITY'], ['WEBHOSTING', 'SECURITY'], ['WEBHOSTING', 'OFFICESUITE', 'CLOUD_IAAS'], ['SECURITY'], ['SECURITY'], ['SECURITY'], ['SECURITY', 'CONTENTMGM'], ['SECURITY'], ['OFFICESUITE'], ['WEBHOSTING'], ['WEBHOSTING', 'SECURITY'], ['WEBHOSTING', 'SECURITY'], ['WEBHOSTING', 'SECURITY'], ['WEBHOSTING', 'SECURITY'], ['SECURITY'], ['SECURITY'], ['WEBHOSTING'], ['WEBHOSTING', 'OFFICESUITE'], ['SECURITY'], ['WEBHOSTING', 'SECURITY'], ['WEBHOSTING', 'SECURITY'], ['WEBHOSTING'], ['WEBHOSTING', 'SECURITY'], ['WEBHOSTING', 'SECURITY'], ['SECURITY'], ['SECURITY', 'CONTENTMGM'], ['WEBHOSTING'], ['OFFICESUITE'], ['SECURITY'], ['SECURITY', 'CONTENTMGM'], ['WEBHOSTING', 'OFFICESUITE', 'SECURITY', 'CONTENTMGM'], ['SECURITY', 'CONTENTMGM'], ['WEBHOSTING', 'OFFICESUITE'], ['SECURITY'], ['SECURITY'], ['SECURITY'], ['WEBHOSTING', 'SECURITY'], ['OFFICESUITE'], ['SECURITY'], ['WEBHOSTING', 'SECURITY', 'CONTENTMGM'], ['WEBHOSTING', 'OFFICESUITE', 'SECURITY'], ['WEBHOSTING', 'SECURITY', 'CONTENTMGM'], ['WEBHOSTING', 'SECURITY'], ['WEBHOSTING', 'OFFICESUITE', 'SECURITY', 'CLOUD_IAAS'], ['OFFICESUITE'], ['WEBHOSTING', 'SECURITY', 'CLOUD_IAAS'], ['WEBHOSTING'], ['SECURITY', 'CONTENTMGM'], ['WEBHOSTING', 'SECURITY'], ['WEBHOSTING', 'SECURITY'], ['SECURITY', 'CONTENTMGM'], ['WEBHOSTING'], ['SECURITY', 'CONTENTMGM'], ['SECURITY'], ['WEBHOSTING', 'SECURITY'], ['SECURITY'], ['WEBHOSTING', 'OFFICESUITE', 'SECURITY', 'CONTENTMGM'], ['WEBHOSTING', 'SECURITY'], ['SECURITY'], ['OFFICESUITE', 'SECURITY'], ['WEBHOSTING', 'SECURITY', 'CONTENTMGM'], ['SECURITY'], ['SECURITY'], ['SECURITY'], ['WEBHOSTING', 'OFFICESUITE', 'SECURITY'], ['WEBHOSTING', 'SECURITY'], ['OFFICESUITE', 'CLOUD_IAAS', 'CONTENTMGM'], ['SECURITY'], ['WEBHOSTING', 'SECURITY'], ['OFFICESUITE', 'SECURITY'], ['OFFICESUITE'], ['OFFICESUITE', 'SECURITY', 'CLOUD_IAAS', 'CONTENTMGM'], ['SECURITY'], ['OFFICESUITE'], ['WEBHOSTING', 'SECURITY'], ['WEBHOSTING'], ['CONTENTMGM'], ['WEBHOSTING'], ['OFFICESUITE', 'SECURITY', 'CLOUD_IAAS', 'CONTENTMGM'], ['OFFICESUITE'], ['OFFICESUITE', 'SECURITY', 'CONTENTMGM'], ['OFFICESUITE', 'SECURITY'], ['WEBHOSTING', 'SECURITY', 'CONTENTMGM'], ['OFFICESUITE', 'SECURITY'], ['SECURITY'], ['SECURITY'], ['SECURITY'], ['SECURITY'], ['WEBHOSTING'], ['SECURITY'], ['OFFICESUITE', 'CLOUD_PAAS', 'CONTENTMGM'], ['WEBHOSTING', 'SECURITY'], ['SECURITY'], ['OFFICESUITE', 'CONTENTMGM'], ['SECURITY', 'CONTENTMGM'], ['SECURITY'], ['SECURITY'], ['SECURITY'], ['WEBHOSTING', 'SECURITY'], ['OFFICESUITE', 'SECURITY', 'CLOUD_IAAS'], ['OFFICESUITE', 'SECURITY', 'CONTENTMGM'], ['WEBHOSTING', 'SECURITY'], ['WEBHOSTING', 'OFFICESUITE', 'SECURITY', 'CONTENTMGM'], ['WEBHOSTING', 'OFFICESUITE', 'SECURITY', 'CLOUD_IAAS', 'CONTENTMGM'], ['WEBHOSTING', 'SECURITY'], ['WEBHOSTING'], ['WEBHOSTING', 'SECURITY'], ['OFFICESUITE', 'SECURITY'], ['OFFICESUITE', 'SECURITY'], ['WEBHOSTING', 'OFFICESUITE', 'SECURITY'], ['WEBHOSTING', 'OFFICESUITE', 'SECURITY', 'CONTENTMGM'], ['WEBHOSTING'], ['WEBHOSTING', 'OFFICESUITE', 'SECURITY', 'CONTENTMGM'], ['SECURITY'], ['OFFICESUITE'], ['WEBHOSTING', 'SECURITY'], ['SECURITY', 'CONTENTMGM'], ['SECURITY'], ['OFFICESUITE', 'SECURITY'], ['WEBHOSTING', 'SECURITY'], ['WEBHOSTING', 'SECURITY'], ['OFFICESUITE', 'SECURITY', 'CONTENTMGM'], ['WEBHOSTING', 'SECURITY'], ['WEBHOSTING', 'SECURITY'], ['WEBHOSTING'], ['OFFICESUITE', 'SECURITY'], ['SECURITY', 'CONTENTMGM'], ['OFFICESUITE', 'SECURITY'], ['OFFICESUITE', 'SECURITY', 'CLOUD_IAAS'], ['OFFICESUITE', 'SECURITY', 'CLOUD_IAAS'], ['SECURITY'], ['WEBHOSTING', 'SECURITY'], ['SECURITY'], ['OFFICESUITE', 'SECURITY', 'CONTENTMGM'], ['SECURITY'], ['OFFICESUITE', 'SECURITY', 'CONTENTMGM'], ['SECURITY'], ['SECURITY'], ['WEBHOSTING', 'SECURITY'], ['SECURITY'], ['SECURITY', 'CONTENTMGM'], ['SECURITY'], ['SECURITY'], ['SECURITY'], ['SECURITY', 'CONTENTMGM'], ['OFFICESUITE', 'SECURITY'], ['ADVERTISING'], ['SECURITY'], ['OFFICESUITE', 'SECURITY'], ['SECURITY'], ['SECURITY'], ['WEBHOSTING', 'SECURITY'], ['SECURITY', 'CLOUD_IAAS'], ['WEBHOSTING', 'SECURITY', 'CONTENTMGM'], ['SECURITY'], ['SECURITY'], ['SECURITY'], ['SECURITY', 'CONTENTMGM'], ['WEBHOSTING'], ['WEBHOSTING', 'SECURITY', 'CLOUD_IAAS'], ['OFFICESUITE', 'SECURITY'], ['WEBHOSTING', 'SECURITY'], ['SECURITY', 'CLOUD_IAAS', 'CONTENTMGM'], ['SECURITY', 'CONTENTMGM'], ['SECURITY', 'CONTENTMGM'], ['WEBHOSTING', 'SECURITY', 'CONTENTMGM'], ['WEBHOSTING', 'OFFICESUITE', 'SECURITY'], ['WEBHOSTING', 'SECURITY', 'CONTENTMGM'], ['SECURITY', 'CONTENTMGM'], ['WEBHOSTING'], ['OFFICESUITE', 'SECURITY'], ['WEBHOSTING'], ['SECURITY'], ['SECURITY'], ['SECURITY'], ['SECURITY'], ['SECURITY'], ['SECURITY', 'CONTENTMGM'], ['WEBHOSTING'], ['WEBHOSTING'], ['SECURITY'], ['OFFICESUITE', 'SECURITY', 'CLOUD_IAAS'], ['WEBHOSTING', 'SECURITY'], ['SECURITY'], ['SECURITY'], ['SECURITY', 'CONTENTMGM'], ['SECURITY', 'CONTENTMGM'], ['CLOUD_IAAS'], ['OFFICESUITE', 'SECURITY'], ['WEBHOSTING', 'OFFICESUITE', 'SECURITY'], ['WEBHOSTING', 'SECURITY', 'CONTENTMGM'], ['WEBHOSTING', 'OFFICESUITE', 'SECURITY'], ['WEBHOSTING'], ['WEBHOSTING'], ['SECURITY', 'CLOUD_IAAS'], ['OFFICESUITE', 'SECURITY'], ['SECURITY'], ['WEBHOSTING', 'SECURITY'], ['OFFICESUITE'], ['OFFICESUITE', 'SECURITY', 'CLOUD_IAAS'], ['SECURITY', 'CONTENTMGM'], ['OFFICESUITE', 'SECURITY', 'CONTENTMGM'], ['SECURITY', 'CONTENTMGM'], ['WEBHOSTING', 'SECURITY'], ['WEBHOSTING', 'OFFICESUITE', 'CONTENTMGM'], ['OFFICESUITE', 'SECURITY', 'CONTENTMGM'], ['WEBHOSTING', 'SECURITY'], ['OFFICESUITE', 'SECURITY', 'CLOUD_IAAS'], ['WEBHOSTING', 'OFFICESUITE'], ['WEBHOSTING', 'OFFICESUITE', 'SECURITY'], ['SECURITY'], ['SECURITY'], ['WEBHOSTING', 'SECURITY', 'CONTENTMGM'], ['SECURITY'], ['OFFICESUITE', 'SECURITY', 'CONTENTMGM'], ['SECURITY'], ['WEBHOSTING', 'SECURITY'], ['SECURITY', 'CLOUD_IAAS', 'CLOUD_PAAS'], ['SECURITY'], ['CONTENTMGM'], ['WEBHOSTING', 'OFFICESUITE', 'CONTENTMGM'], ['SECURITY'], ['WEBHOSTING', 'OFFICESUITE', 'SECURITY', 'CLOUD_IAAS'], ['WEBHOSTING', 'OFFICESUITE'], ['WEBHOSTING', 'OFFICESUITE', 'SECURITY', 'CLOUD_IAAS'], ['OFFICESUITE', 'SECURITY', 'CONTENTMGM'], ['WEBHOSTING', 'SECURITY'], ['WEBHOSTING', 'SECURITY', 'CONTENTMGM'], ['SECURITY'], ['OFFICESUITE', 'SECURITY'], ['WEBHOSTING'], ['SECURITY'], ['WEBHOSTING', 'SECURITY', 'CLOUD_IAAS'], ['SECURITY'], ['WEBHOSTING'], ['CLOUD_IAAS'], ['WEBHOSTING', 'SECURITY'], ['SECURITY'], ['WEBHOSTING', 'SECURITY'], ['WEBHOSTING', 'OFFICESUITE'], ['SECURITY', 'CLOUD_IAAS'], ['SECURITY'], ['OFFICESUITE', 'SECURITY', 'CONTENTMGM'], ['WEBHOSTING', 'SECURITY'], ['OFFICESUITE'], ['WEBHOSTING', 'OFFICESUITE', 'SECURITY', 'CONTENTMGM'], ['WEBHOSTING', 'SECURITY'], ['SECURITY'], ['WEBHOSTING', 'SECURITY', 'CONTENTMGM'], ['WEBHOSTING', 'OFFICESUITE', 'SECURITY'], ['WEBHOSTING', 'SECURITY'], ['SECURITY', 'CONTENTMGM'], ['SECURITY'], ['SECURITY'], ['SECURITY'], ['WEBHOSTING'], ['SECURITY', 'CONTENTMGM'], ['SECURITY', 'CONTENTMGM'], ['WEBHOSTING'], ['SECURITY'], ['WEBHOSTING', 'SECURITY'], ['SECURITY'], ['WEBHOSTING', 'SECURITY'], ['OFFICESUITE'], ['SECURITY'], ['WEBHOSTING', 'SECURITY'], ['WEBHOSTING', 'OFFICESUITE', 'SECURITY'], ['WEBHOSTING'], ['OFFICESUITE', 'CLOUD_IAAS', 'CONTENTMGM'], ['SECURITY', 'ADVERTISING'], ['OFFICESUITE', 'SECURITY'], ['SECURITY'], ['WEBHOSTING'], ['OFFICESUITE'], ['WEBHOSTING', 'SECURITY'], ['SECURITY', 'CLOUD_IAAS'], ['WEBHOSTING', 'SECURITY'], ['SECURITY', 'CLOUD_IAAS'], ['OFFICESUITE'], ['WEBHOSTING', 'SECURITY', 'CONTENTMGM'], ['WEBHOSTING'], ['WEBHOSTING', 'SECURITY'], ['SECURITY'], ['WEBHOSTING', 'SECURITY', 'CONTENTMGM'], ['OFFICESUITE', 'SECURITY'], ['OFFICESUITE', 'SECURITY'], ['SECURITY'], ['WEBHOSTING'], ['SECURITY'], ['WEBHOSTING', 'SECURITY', 'CONTENTMGM'], ['SECURITY'], ['SECURITY'], ['WEBHOSTING', 'SECURITY'], ['OFFICESUITE', 'SECURITY', 'CONTENTMGM'], ['WEBHOSTING', 'SECURITY'], ['SECURITY'], ['WEBHOSTING', 'SECURITY', 'CONTENTMGM'], ['SECURITY'], ['WEBHOSTING', 'CONTENTMGM'], ['WEBHOSTING', 'SECURITY', 'CONTENTMGM'], ['SECURITY'], ['SECURITY', 'CONTENTMGM'], ['CLOUD_IAAS'], ['OFFICESUITE', 'SECURITY'], ['SECURITY', 'CONTENTMGM'], ['SECURITY'], ['SECURITY'], ['SECURITY'], ['SECURITY'], ['SECURITY'], ['OFFICESUITE'], ['SECURITY'], ['SECURITY'], ['WEBHOSTING', 'SECURITY'], ['OFFICESUITE'], ['SECURITY'], ['SECURITY'], ['SECURITY'], ['SECURITY'], ['WEBHOSTING', 'OFFICESUITE'], ['OFFICESUITE', 'SECURITY'], ['SECURITY'], ['SECURITY'], ['CONTENTMGM'], ['WEBHOSTING', 'SECURITY'], ['SECURITY'], ['OFFICESUITE', 'SECURITY'], ['SECURITY', 'CLOUD_IAAS'], ['SECURITY'], ['SECURITY'], ['SECURITY'], ['SECURITY'], ['SECURITY'], ['SECURITY'], ['SECURITY'], ['SECURITY'], ['SECURITY'], ['WEBHOSTING', 'SECURITY', 'CLOUD_IAAS'], ['SECURITY', 'CONTENTMGM'], ['WEBHOSTING', 'SECURITY', 'CONTENTMGM'], ['OFFICESUITE'], ['SECURITY'], ['SECURITY'], ['SECURITY'], ['SECURITY'], ['SECURITY'], ['ADVERTISING'], ['SECURITY'], ['SECURITY'], ['SECURITY'], ['SECURITY'], ['SECURITY'], ['WEBHOSTING', 'SECURITY'], ['WEBHOSTING']]\n"
     ]
    }
   ],
   "source": [
    "#Here we crate the transactions list\n",
    "transactions = []\n",
    "#We loop trhough the records\n",
    "for recordnum, record in dataset2.iterrows():\n",
    "    transaction = []\n",
    "    #We loop trhough the colums\n",
    "    for column in dataset2.columns:\n",
    "        #If that value contains a one we add to the transaction the column name\n",
    "        if record[column] == 1:\n",
    "            transaction.append(column)\n",
    "    transactions.append(transaction)\n",
    "print(transactions)"
   ]
  },
  {
   "cell_type": "markdown",
   "metadata": {},
   "source": [
    "As we can see now the transactions datatype is what we want for the apriory algorithm"
   ]
  },
  {
   "cell_type": "markdown",
   "metadata": {},
   "source": [
    "# 3. Run the Apriori algorithm"
   ]
  },
  {
   "cell_type": "code",
   "execution_count": 12,
   "metadata": {},
   "outputs": [
    {
     "name": "stdout",
     "output_type": "stream",
     "text": [
      "Rules involving itemset ['CONTENTMGM', 'SECURITY']\n",
      "['CONTENTMGM'] => ['SECURITY'] (support=0.18, confidence=0.91, lift=1.12)\n",
      "\n",
      "Rules involving itemset ['CONTENTMGM', 'OFFICESUITE', 'SECURITY']\n",
      "['CONTENTMGM', 'OFFICESUITE'] => ['SECURITY'] (support=0.05, confidence=0.82, lift=1.01)\n",
      "\n",
      "Rules involving itemset ['CONTENTMGM', 'WEBHOSTING', 'SECURITY']\n",
      "['CONTENTMGM', 'WEBHOSTING'] => ['SECURITY'] (support=0.07, confidence=0.93, lift=1.15)\n",
      "\n"
     ]
    }
   ],
   "source": [
    "#We calculate the apriori results with grater than 1 lift\n",
    "results = list(apriori(transactions, min_support=0.03, min_confidence=0.8, min_lift=1))\n",
    "print_apyori_output(results)"
   ]
  },
  {
   "cell_type": "markdown",
   "metadata": {},
   "source": [
    "As we can see we have obtain 3 rules:\n",
    "\n",
    "$ CONTENTMGM \\Rightarrow SECURITY $\n",
    "\n",
    "This first rule is saying that when we have CONTENTMGM we have SECURITY too with a confidence of 91%\n",
    "\n",
    "$ [OFFICESUITE, CONTENTMGM] \\Rightarrow SECURITY $\n",
    "\n",
    "This second rule is saying that when we have [OFFICESUITE, CONTENTMGM] we have SECURITY too with a confidence of 82%\n",
    "\n",
    "$ [WEBHOSTING, CONTENTMGM] \\Rightarrow SECURITY $\n",
    "\n",
    "This third rule is saying that when we have [WEBHOSTING, CONTENTMGM] we have SECURITY too with a confidence of 93%\n",
    "\n",
    "**And all of them with a lift > 1**"
   ]
  },
  {
   "cell_type": "code",
   "execution_count": 14,
   "metadata": {},
   "outputs": [
    {
     "name": "stdout",
     "output_type": "stream",
     "text": [
      "Rules involving itemset ['CLOUD_PAAS', 'OFFICESUITE']\n",
      "['CLOUD_PAAS'] => ['OFFICESUITE'] (support=0.01, confidence=0.83, lift=3.57)\n",
      "\n",
      "Rules involving itemset ['CLOUD_IAAS', 'OFFICESUITE', 'CONTENTMGM']\n",
      "['CLOUD_IAAS', 'CONTENTMGM'] => ['OFFICESUITE'] (support=0.01, confidence=0.82, lift=3.50)\n",
      "\n",
      "Rules involving itemset ['CLOUD_IAAS', 'SECURITY', 'OFFICESUITE', 'CONTENTMGM']\n",
      "['CLOUD_IAAS', 'CONTENTMGM'] => ['OFFICESUITE', 'SECURITY'] (support=0.01, confidence=0.55, lift=3.45)\n",
      "['CLOUD_IAAS', 'SECURITY', 'CONTENTMGM'] => ['OFFICESUITE'] (support=0.01, confidence=0.75, lift=3.21)\n",
      "\n"
     ]
    }
   ],
   "source": [
    "#We look for the greater lift putting as a restriction and with lower values of min_sup and min_confidence\n",
    "results = list(apriori(transactions, min_support=0.005, min_confidence=0.5, min_lift=3))\n",
    "print_apyori_output(results)"
   ]
  },
  {
   "cell_type": "markdown",
   "metadata": {},
   "source": [
    "As we can see we have obtain 4 rules:\n",
    "\n",
    "$ CLOUD_PAAS \\Rightarrow OFFICESUITE $\n",
    "\n",
    "This first rule is saying that when we have CLOUD_PAAS we have OFFICESUITE too with a confidence of 83%\n",
    "\n",
    "$ [CLOUD_IAAS, CONTENTMGM] \\Rightarrow OFFICESUITE $\n",
    "\n",
    "This second rule is saying that when we have [CLOUD_IAAS, CONTENTMGM] we have OFFICESUITE too with a confidence of 82%\n",
    "\n",
    "$ [CLOUD_IAAS, CONTENTMGM] \\Rightarrow [SECURITY,OFFICESUITE] $\n",
    "\n",
    "This third rule is saying that when we have [CLOUD_IAAS, CONTENTMGM] we have [SECURITY,OFFICESUITE] too with a confidence of 55%\n",
    "\n",
    "$ [CLOUD_IAAS, CONTENTMGM,SECURITY] \\Rightarrow OFFICESUITE $\n",
    "\n",
    "This third rule is saying that when we have [CLOUD_IAAS, CONTENTMGM,SECURITY] we have OFFICESUITE too with a confidence of 75%\n",
    "\n",
    "**And all of them with a lift > 3**"
   ]
  },
  {
   "cell_type": "code",
   "execution_count": 16,
   "metadata": {},
   "outputs": [
    {
     "name": "stdout",
     "output_type": "stream",
     "text": [
      "Rules involving itemset ['CLOUD_IAAS', 'OFFICESUITE']\n",
      "['CLOUD_IAAS'] => ['OFFICESUITE'] (support=0.04, confidence=0.45, lift=1.92)\n",
      "\n",
      "Rules involving itemset ['CLOUD_PAAS', 'OFFICESUITE']\n",
      "['CLOUD_PAAS'] => ['OFFICESUITE'] (support=0.01, confidence=0.83, lift=3.57)\n",
      "\n",
      "Rules involving itemset ['CONTENTMGM', 'SECURITY']\n",
      "['CONTENTMGM'] => ['SECURITY'] (support=0.18, confidence=0.91, lift=1.12)\n",
      "\n",
      "Rules involving itemset ['CLOUD_IAAS', 'OFFICESUITE', 'CONTENTMGM']\n",
      "['CLOUD_IAAS', 'CONTENTMGM'] => ['OFFICESUITE'] (support=0.01, confidence=0.82, lift=3.50)\n",
      "\n",
      "Rules involving itemset ['CLOUD_IAAS', 'OFFICESUITE', 'SECURITY']\n",
      "['CLOUD_IAAS', 'SECURITY'] => ['OFFICESUITE'] (support=0.03, confidence=0.48, lift=2.05)\n",
      "\n",
      "Rules involving itemset ['CLOUD_IAAS', 'OFFICESUITE', 'WEBHOSTING']\n",
      "['CLOUD_IAAS', 'WEBHOSTING'] => ['OFFICESUITE'] (support=0.01, confidence=0.44, lift=1.90)\n",
      "\n",
      "Rules involving itemset ['CLOUD_IAAS', 'WEBHOSTING', 'SECURITY']\n",
      "['CLOUD_IAAS', 'WEBHOSTING'] => ['SECURITY'] (support=0.02, confidence=0.83, lift=1.03)\n",
      "\n",
      "Rules involving itemset ['CONTENTMGM', 'OFFICESUITE', 'SECURITY']\n",
      "['CONTENTMGM', 'OFFICESUITE'] => ['SECURITY'] (support=0.05, confidence=0.82, lift=1.01)\n",
      "\n",
      "Rules involving itemset ['CONTENTMGM', 'WEBHOSTING', 'SECURITY']\n",
      "['CONTENTMGM', 'WEBHOSTING'] => ['SECURITY'] (support=0.07, confidence=0.93, lift=1.15)\n",
      "\n",
      "Rules involving itemset ['CLOUD_IAAS', 'SECURITY', 'OFFICESUITE', 'CONTENTMGM']\n",
      "['CLOUD_IAAS', 'CONTENTMGM'] => ['OFFICESUITE', 'SECURITY'] (support=0.01, confidence=0.55, lift=3.45)\n",
      "['CLOUD_IAAS', 'SECURITY', 'CONTENTMGM'] => ['OFFICESUITE'] (support=0.01, confidence=0.75, lift=3.21)\n",
      "\n",
      "Rules involving itemset ['CLOUD_IAAS', 'OFFICESUITE', 'WEBHOSTING', 'SECURITY']\n",
      "['CLOUD_IAAS', 'WEBHOSTING', 'SECURITY'] => ['OFFICESUITE'] (support=0.01, confidence=0.40, lift=1.71)\n",
      "\n",
      "Rules involving itemset ['CONTENTMGM', 'OFFICESUITE', 'WEBHOSTING', 'SECURITY']\n",
      "['CONTENTMGM', 'OFFICESUITE', 'WEBHOSTING'] => ['SECURITY'] (support=0.02, confidence=0.87, lift=1.07)\n",
      "\n"
     ]
    }
   ],
   "source": [
    "#Aditional rules to understand the customers\n",
    "results = list(apriori(transactions, min_support=0.005, min_confidence=0.4, min_lift=1))\n",
    "print_apyori_output(results)"
   ]
  },
  {
   "cell_type": "markdown",
   "metadata": {},
   "source": [
    "As we can see in all this rules obtained, the customers that but CONTENTMGM buy SECURITY and this is related too with the OFFICESUITE.\n",
    "And with WEBHOSTING we see that is related with the purchased mentioned before."
   ]
  },
  {
   "cell_type": "markdown",
   "metadata": {},
   "source": [
    "Knowing this rules now we can try to sugest some products to the customers:\n",
    "\n",
    "For sure we have to take in count to recomend SECURITY if they buy CONTENTMGM and maybe recomend a offer of CONTENTMGM, OFFICESUITE, WEBHOSTING, SECURITY all together, as we can see in the rule:\n",
    "\n",
    "Rules involving itemset ['CONTENTMGM', 'OFFICESUITE', 'WEBHOSTING', 'SECURITY']\n",
    "['CONTENTMGM', 'OFFICESUITE', 'WEBHOSTING'] => ['SECURITY'] (support=0.02, confidence=0.87, lift=1.07)"
   ]
  },
  {
   "cell_type": "markdown",
   "metadata": {},
   "source": [
    "<font size=\"+2\" color=\"blue\">Additional results: experiments on the bakery dataset</font>"
   ]
  },
  {
   "cell_type": "code",
   "execution_count": 17,
   "metadata": {},
   "outputs": [
    {
     "data": {
      "text/html": [
       "<div>\n",
       "<style scoped>\n",
       "    .dataframe tbody tr th:only-of-type {\n",
       "        vertical-align: middle;\n",
       "    }\n",
       "\n",
       "    .dataframe tbody tr th {\n",
       "        vertical-align: top;\n",
       "    }\n",
       "\n",
       "    .dataframe thead th {\n",
       "        text-align: right;\n",
       "    }\n",
       "</style>\n",
       "<table border=\"1\" class=\"dataframe\">\n",
       "  <thead>\n",
       "    <tr style=\"text-align: right;\">\n",
       "      <th></th>\n",
       "      <th>Date</th>\n",
       "      <th>Time</th>\n",
       "      <th>Transaction</th>\n",
       "      <th>Item</th>\n",
       "    </tr>\n",
       "  </thead>\n",
       "  <tbody>\n",
       "    <tr>\n",
       "      <th>0</th>\n",
       "      <td>2016-10-30</td>\n",
       "      <td>09:58:11</td>\n",
       "      <td>1</td>\n",
       "      <td>Bread</td>\n",
       "    </tr>\n",
       "    <tr>\n",
       "      <th>1</th>\n",
       "      <td>2016-10-30</td>\n",
       "      <td>10:05:34</td>\n",
       "      <td>2</td>\n",
       "      <td>Scandinavian</td>\n",
       "    </tr>\n",
       "    <tr>\n",
       "      <th>2</th>\n",
       "      <td>2016-10-30</td>\n",
       "      <td>10:05:34</td>\n",
       "      <td>2</td>\n",
       "      <td>Scandinavian</td>\n",
       "    </tr>\n",
       "    <tr>\n",
       "      <th>3</th>\n",
       "      <td>2016-10-30</td>\n",
       "      <td>10:07:57</td>\n",
       "      <td>3</td>\n",
       "      <td>Hot chocolate</td>\n",
       "    </tr>\n",
       "    <tr>\n",
       "      <th>4</th>\n",
       "      <td>2016-10-30</td>\n",
       "      <td>10:07:57</td>\n",
       "      <td>3</td>\n",
       "      <td>Jam</td>\n",
       "    </tr>\n",
       "    <tr>\n",
       "      <th>5</th>\n",
       "      <td>2016-10-30</td>\n",
       "      <td>10:07:57</td>\n",
       "      <td>3</td>\n",
       "      <td>Cookies</td>\n",
       "    </tr>\n",
       "    <tr>\n",
       "      <th>6</th>\n",
       "      <td>2016-10-30</td>\n",
       "      <td>10:08:41</td>\n",
       "      <td>4</td>\n",
       "      <td>Muffin</td>\n",
       "    </tr>\n",
       "    <tr>\n",
       "      <th>7</th>\n",
       "      <td>2016-10-30</td>\n",
       "      <td>10:13:03</td>\n",
       "      <td>5</td>\n",
       "      <td>Coffee</td>\n",
       "    </tr>\n",
       "    <tr>\n",
       "      <th>8</th>\n",
       "      <td>2016-10-30</td>\n",
       "      <td>10:13:03</td>\n",
       "      <td>5</td>\n",
       "      <td>Pastry</td>\n",
       "    </tr>\n",
       "    <tr>\n",
       "      <th>9</th>\n",
       "      <td>2016-10-30</td>\n",
       "      <td>10:13:03</td>\n",
       "      <td>5</td>\n",
       "      <td>Bread</td>\n",
       "    </tr>\n",
       "  </tbody>\n",
       "</table>\n",
       "</div>"
      ],
      "text/plain": [
       "         Date      Time  Transaction           Item\n",
       "0  2016-10-30  09:58:11            1          Bread\n",
       "1  2016-10-30  10:05:34            2   Scandinavian\n",
       "2  2016-10-30  10:05:34            2   Scandinavian\n",
       "3  2016-10-30  10:07:57            3  Hot chocolate\n",
       "4  2016-10-30  10:07:57            3            Jam\n",
       "5  2016-10-30  10:07:57            3        Cookies\n",
       "6  2016-10-30  10:08:41            4         Muffin\n",
       "7  2016-10-30  10:13:03            5         Coffee\n",
       "8  2016-10-30  10:13:03            5         Pastry\n",
       "9  2016-10-30  10:13:03            5          Bread"
      ]
     },
     "execution_count": 17,
     "metadata": {},
     "output_type": "execute_result"
    }
   ],
   "source": [
    "#We load the raw data from github\n",
    "url = \"https://raw.githubusercontent.com/viktree/curly-octo-chainsaw/master/BreadBasket_DMS.csv\"\n",
    "raw_df = pd.read_csv(url)\n",
    "raw_df.head(10)"
   ]
  },
  {
   "cell_type": "code",
   "execution_count": 18,
   "metadata": {},
   "outputs": [
    {
     "data": {
      "text/html": [
       "<div>\n",
       "<style scoped>\n",
       "    .dataframe tbody tr th:only-of-type {\n",
       "        vertical-align: middle;\n",
       "    }\n",
       "\n",
       "    .dataframe tbody tr th {\n",
       "        vertical-align: top;\n",
       "    }\n",
       "\n",
       "    .dataframe thead th {\n",
       "        text-align: right;\n",
       "    }\n",
       "</style>\n",
       "<table border=\"1\" class=\"dataframe\">\n",
       "  <thead>\n",
       "    <tr style=\"text-align: right;\">\n",
       "      <th></th>\n",
       "      <th>Date</th>\n",
       "      <th>Time</th>\n",
       "      <th>Transaction</th>\n",
       "      <th>Item</th>\n",
       "    </tr>\n",
       "  </thead>\n",
       "  <tbody>\n",
       "    <tr>\n",
       "      <th>0</th>\n",
       "      <td>2016-10-30</td>\n",
       "      <td>09:58:11</td>\n",
       "      <td>1</td>\n",
       "      <td>Bread</td>\n",
       "    </tr>\n",
       "    <tr>\n",
       "      <th>1</th>\n",
       "      <td>2016-10-30</td>\n",
       "      <td>10:05:34</td>\n",
       "      <td>2</td>\n",
       "      <td>Scandinavian</td>\n",
       "    </tr>\n",
       "    <tr>\n",
       "      <th>2</th>\n",
       "      <td>2016-10-30</td>\n",
       "      <td>10:05:34</td>\n",
       "      <td>2</td>\n",
       "      <td>Scandinavian</td>\n",
       "    </tr>\n",
       "    <tr>\n",
       "      <th>3</th>\n",
       "      <td>2016-10-30</td>\n",
       "      <td>10:07:57</td>\n",
       "      <td>3</td>\n",
       "      <td>Hot chocolate</td>\n",
       "    </tr>\n",
       "    <tr>\n",
       "      <th>4</th>\n",
       "      <td>2016-10-30</td>\n",
       "      <td>10:07:57</td>\n",
       "      <td>3</td>\n",
       "      <td>Jam</td>\n",
       "    </tr>\n",
       "  </tbody>\n",
       "</table>\n",
       "</div>"
      ],
      "text/plain": [
       "         Date      Time  Transaction           Item\n",
       "0  2016-10-30  09:58:11            1          Bread\n",
       "1  2016-10-30  10:05:34            2   Scandinavian\n",
       "2  2016-10-30  10:05:34            2   Scandinavian\n",
       "3  2016-10-30  10:07:57            3  Hot chocolate\n",
       "4  2016-10-30  10:07:57            3            Jam"
      ]
     },
     "execution_count": 18,
     "metadata": {},
     "output_type": "execute_result"
    }
   ],
   "source": [
    "#We clean the data as in the notebook provide it\n",
    "def cleanup_dataset(df):\n",
    "    # Returns new dataset without NONE values in specified c\n",
    "    df_none_entries = df.loc[df['Item']=='NONE',:]\n",
    "    return df.drop(df_none_entries.index)\n",
    "\n",
    "dataset = cleanup_dataset(raw_df)\n",
    "dataset.head()"
   ]
  },
  {
   "cell_type": "code",
   "execution_count": 19,
   "metadata": {},
   "outputs": [],
   "source": [
    "#We transform the data to a transaction type\n",
    "transactions = []\n",
    "for n_transact in dataset.Transaction.unique():\n",
    "    transactions.append(dataset.Item.values[dataset[\"Transaction\"] == n_transact])"
   ]
  },
  {
   "cell_type": "code",
   "execution_count": 20,
   "metadata": {},
   "outputs": [
    {
     "name": "stdout",
     "output_type": "stream",
     "text": [
      "Rules involving itemset ['Coffee', 'Medialuna']\n",
      "['Medialuna'] => ['Coffee'] (support=0.04, confidence=0.57, lift=1.19)\n",
      "\n",
      "Rules involving itemset ['Coffee', 'Spanish Brunch']\n",
      "['Spanish Brunch'] => ['Coffee'] (support=0.01, confidence=0.60, lift=1.25)\n",
      "\n",
      "Rules involving itemset ['Coffee', 'Toast']\n",
      "['Toast'] => ['Coffee'] (support=0.02, confidence=0.70, lift=1.47)\n",
      "\n"
     ]
    }
   ],
   "source": [
    "#We calculate the apriori results\n",
    "results = list(apriori(transactions, min_support=0.01, min_confidence=0.56, min_lift=1))\n",
    "print_apyori_output(results)"
   ]
  },
  {
   "cell_type": "markdown",
   "metadata": {},
   "source": [
    "With this 3 rules obtained, now we can discuss some posible decisions for the business:\n",
    "\n",
    "For example we can create a offer of toast+coffee together with some discount, because we know with 70% of confidence that the people who buys a toast they buy a coffee too.\n",
    "But we have the rule that if they buy a medialuna they but a coffee too, and the same with Spanish Brunch, so it seems that it is common to come here and take some food with coffee, so the offer could be for all food, or when they will buy ask for coffee with discount or without."
   ]
  },
  {
   "cell_type": "markdown",
   "metadata": {},
   "source": [
    "<font size=\"+2\" color=\"#003300\">I hereby declare that, except for the code provided by the course instructors, all of my code, report, and figures were produced by myself.</font>"
   ]
  }
 ],
 "metadata": {
  "kernelspec": {
   "display_name": "Python 3",
   "language": "python",
   "name": "python3"
  },
  "language_info": {
   "codemirror_mode": {
    "name": "ipython",
    "version": 3
   },
   "file_extension": ".py",
   "mimetype": "text/x-python",
   "name": "python",
   "nbconvert_exporter": "python",
   "pygments_lexer": "ipython3",
   "version": "3.7.6"
  }
 },
 "nbformat": 4,
 "nbformat_minor": 2
}
