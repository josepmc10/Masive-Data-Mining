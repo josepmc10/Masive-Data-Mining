{
 "cells": [
  {
   "cell_type": "markdown",
   "metadata": {},
   "source": [
    "Author: <font color=\"blue\">Josep Monclús Carrasco</font>\n",
    "\n",
    "E-mail: <font color=\"blue\">josep.monclus01@estudiant.upf.edu</font>\n",
    "\n",
    "Date: <font color=\"blue\">18/10/2021</font>"
   ]
  },
  {
   "cell_type": "code",
   "execution_count": 1,
   "metadata": {},
   "outputs": [],
   "source": [
    "import io\n",
    "import json\n",
    "import gzip\n",
    "import re\n",
    "import random\n",
    "import numpy as np\n",
    "import matplotlib.pyplot as plt\n",
    "from timeit import default_timer as timer\n",
    "import datetime"
   ]
  },
  {
   "cell_type": "code",
   "execution_count": 2,
   "metadata": {},
   "outputs": [
    {
     "name": "stdout",
     "output_type": "stream",
     "text": [
      "Read 10000 documents\n"
     ]
    }
   ],
   "source": [
    "# Input file\n",
    "#We change the File name CovidLockdownCatalonia.json.gz to data/CovidLockdownCatalonia.json.gz\n",
    "INPUT_FILENAME = \"data/CovidLockdownCatalonia.json.gz\"\n",
    "\n",
    "# Array for storing messages\n",
    "messages = []\n",
    "MAX_MESSAGES = 10000\n",
    "\n",
    "with gzip.open(INPUT_FILENAME, \"rt\", encoding=\"utf-8\") as input_file:\n",
    "    \n",
    "    messages_read = 0\n",
    "    for line in input_file:\n",
    "            \n",
    "        # Read message\n",
    "        tweet = json.loads(line)\n",
    "\n",
    "        # Keep only messages in Catalan\n",
    "        if tweet[\"lang\"] == \"ca\":\n",
    "            \n",
    "            messages_read += 1\n",
    "            \n",
    "            if messages_read <= MAX_MESSAGES:\n",
    "                author = tweet[\"user\"][\"screen_name\"]\n",
    "                message = tweet[\"full_text\"]\n",
    "                messages.append(message)\n",
    "\n",
    "print(\"Read %d documents\" % len(messages))"
   ]
  },
  {
   "cell_type": "markdown",
   "metadata": {},
   "source": [
    "# 1. Auxiliary functions"
   ]
  },
  {
   "cell_type": "code",
   "execution_count": 3,
   "metadata": {},
   "outputs": [],
   "source": [
    "def jaccard_similarity(l1,l2,to_set=True):\n",
    "    \"\"\"\n",
    "    This function determine the jaccard similarity value between 2 list\n",
    "    \"\"\"\n",
    "    #We transform to set if is necessary\n",
    "    if to_set:\n",
    "        s1 = set(l1)\n",
    "        s2 = set(l2)\n",
    "    #We compute the union and the intersection\n",
    "    inters = s1.intersection(s2)\n",
    "    union = s1.union(s2)\n",
    "    #This if is only to not run an error (if union is 0 intersection too)\n",
    "    if len(union) == 0:\n",
    "        union.add(0)\n",
    "    return len(inters)/len(union)"
   ]
  },
  {
   "cell_type": "code",
   "execution_count": 4,
   "metadata": {},
   "outputs": [
    {
     "name": "stdout",
     "output_type": "stream",
     "text": [
      "A: ['a', 'b', 'c']\n",
      "B: ['d', 'e', 'f']\n",
      "Jaccard value: 0.0 \n",
      "\n",
      "A: [1, 2, 3, 7]\n",
      "B: [1, 4, 6, 7]\n",
      "Jaccard value: 0.3333333333333333 \n",
      "\n",
      "A: [1, 2, 3, 4]\n",
      "B: [1, 4, 2, 3]\n",
      "Jaccard value: 1.0 \n",
      "\n",
      "A: []\n",
      "B: []\n",
      "Jaccard value: 0.0 \n",
      "\n"
     ]
    }
   ],
   "source": [
    "#Testing the jaccard_similarity function\n",
    "# Value 0.0\n",
    "A = [\"a\",\"b\",\"c\"]\n",
    "B = [\"d\",\"e\",\"f\"]\n",
    "print(\"A:\",A)\n",
    "print(\"B:\",B)\n",
    "print(\"Jaccard value:\",jaccard_similarity(A,B),\"\\n\")\n",
    "# Value 1/3\n",
    "A = [1,2,3,7]\n",
    "B = [1,4,6,7]\n",
    "print(\"A:\",A)\n",
    "print(\"B:\",B)\n",
    "print(\"Jaccard value:\",jaccard_similarity(A,B),\"\\n\")\n",
    "# Value 1\n",
    "A = [1,2,3,4]\n",
    "B = [1,4,2,3]\n",
    "print(\"A:\",A)\n",
    "print(\"B:\",B)\n",
    "print(\"Jaccard value:\",jaccard_similarity(A,B),\"\\n\")\n",
    "# Value 0.0 with empty arrays\n",
    "A = []\n",
    "B = []\n",
    "print(\"A:\",A)\n",
    "print(\"B:\",B)\n",
    "print(\"Jaccard value:\",jaccard_similarity(A,B),\"\\n\")"
   ]
  },
  {
   "cell_type": "code",
   "execution_count": 5,
   "metadata": {},
   "outputs": [],
   "source": [
    "def clean(text):\n",
    "    \"\"\"\n",
    "    This function clean the text by \n",
    "    Converting to lowercase\n",
    "    Removing URLs\n",
    "    Removing anything that is not a letter or digit\n",
    "    Romanizes text, replacing \"ñ\" by \"n\", \"ó\" by \"o\", \"à\" by \"a\", \"l·l\" by \"ll\"\n",
    "    \"\"\"\n",
    "    text_clean = text.lower()\n",
    "    #Here we have a array with all the regexpresions that we want to change\n",
    "    raw_chars = [\"ñ\",\"ó|ò\",\"ç\",\"à\",\"é|è\",\"l·l\"\n",
    "                 ,\"(https?:\\/\\/)?([\\da-z\\.-]+)\\.([a-z\\.]{2,6})([\\/\\w\\.-]*)*\\/?\"\n",
    "                 ,\"[^A-Za-z0-9- ]+\"]\n",
    "    #Plus the changes for the regexp\n",
    "    clean_chars = [\"n\",\"o\",\"c\",\"a\",\"e\",\"ll\",\"\",\"\"]\n",
    "    #We apply the changes in the text\n",
    "    for i,ch in enumerate(raw_chars):\n",
    "        text_clean = re.sub(ch,clean_chars[i],text_clean)\n",
    "    \n",
    "    return text_clean"
   ]
  },
  {
   "cell_type": "code",
   "execution_count": 6,
   "metadata": {},
   "outputs": [
    {
     "name": "stdout",
     "output_type": "stream",
     "text": [
      "Inicial text: RT @Inigo_1987: I am Iñigo Montoya! https://t.co/aaa\n",
      "After cleaning: rt inigo1987 i am inigo montoya \n"
     ]
    }
   ],
   "source": [
    "#We test the function clean\n",
    "test_text = \"RT @Inigo_1987: I am Iñigo Montoya! https://t.co/aaa\"\n",
    "print(\"Inicial text:\",test_text)\n",
    "print(\"After cleaning:\",clean(test_text))"
   ]
  },
  {
   "cell_type": "markdown",
   "metadata": {},
   "source": [
    "# 2. Implement an n-gram extractor"
   ]
  },
  {
   "cell_type": "code",
   "execution_count": 7,
   "metadata": {},
   "outputs": [],
   "source": [
    "MIN_TOKEN_LENGTH = 2\n",
    "\n",
    "def ngrams(text, size):\n",
    "    \"\"\"\n",
    "    This function takes a text and size for the ngrams\n",
    "    And return all the diferent ngrams\n",
    "    \"\"\"\n",
    "    tokens = clean(text).split()\n",
    "    ngrams = []\n",
    "    toks = []\n",
    "    #We eliminate all tokens that don't have the correct length\n",
    "    for t in tokens:\n",
    "        if len(t) >= MIN_TOKEN_LENGTH:\n",
    "            toks.append(t)   \n",
    "    #We loop the tokens\n",
    "    for i,token in enumerate(toks):\n",
    "        #We check that we no overpass the len of the tokens\n",
    "        if i < len(toks)-(size-1):\n",
    "            #We create a list with the grams\n",
    "            gram = [token]\n",
    "            #For each token we have its n consecutive tokens\n",
    "            for n in range(1,size):\n",
    "                gram.append(toks[i+n])\n",
    "            #We add to ngrams the string with the gram\n",
    "            ngrams.append(\" \".join(gram))\n",
    "            \n",
    "    return ngrams"
   ]
  },
  {
   "cell_type": "code",
   "execution_count": 8,
   "metadata": {},
   "outputs": [
    {
     "name": "stdout",
     "output_type": "stream",
     "text": [
      "RT @diariARA: Comerciants xinesos donen mascaretes i gel antisèptic a Badalona per lluitar contra el coronavirus https://t.co/ybYXFxphIu\n",
      "['rt diariara', 'diariara comerciants', 'comerciants xinesos', 'xinesos donen', 'donen mascaretes', 'mascaretes gel', 'gel antiseptic', 'antiseptic badalona', 'badalona per', 'per lluitar', 'lluitar contra', 'contra el', 'el coronavirus']\n"
     ]
    }
   ],
   "source": [
    "#Testing the ngrams function\n",
    "print(messages[9780])\n",
    "print(ngrams(messages[9780], 2))"
   ]
  },
  {
   "cell_type": "markdown",
   "metadata": {},
   "source": [
    "# 3. Estimation for brute force method"
   ]
  },
  {
   "cell_type": "code",
   "execution_count": 9,
   "metadata": {},
   "outputs": [],
   "source": [
    "# Leave this code as-is\n",
    "\n",
    "def time_brute_force_similarities(messages, limit, ngram_size):\n",
    "    if limit > len(messages):\n",
    "        raise ValueError(\"Limit should be less than or equal than the number of messages\")\n",
    "        \n",
    "    # Start a timer\n",
    "    start = timer()\n",
    "\n",
    "    # Iterate through document identifiers\n",
    "    for docid1 in range(np.min([len(messages), limit])):\n",
    "\n",
    "        # Clean document 1 and extract ngrams\n",
    "        doc1 = clean(messages[docid1])\n",
    "        ngrams1 = ngrams(doc1, ngram_size)\n",
    "\n",
    "        # Iterate through document identifiers larger than doc2\n",
    "        for docid2 in range(docid1+1, np.min([len(messages), limit])):\n",
    "                         \n",
    "            # Clean document 2 and extract ngrams\n",
    "            doc2 = clean(messages[docid2])\n",
    "            ngrams2 = ngrams(doc2, ngram_size)\n",
    "\n",
    "            # Compute similarity\n",
    "            similarity = jaccard_similarity(ngrams1, ngrams2)\n",
    "\n",
    "    end = timer()\n",
    "    return(end - start)"
   ]
  },
  {
   "cell_type": "code",
   "execution_count": 10,
   "metadata": {},
   "outputs": [
    {
     "name": "stdout",
     "output_type": "stream",
     "text": [
      "Calculating y(time) for 1 messages\n",
      "Calculating y(time) for 151 messages\n",
      "Calculating y(time) for 301 messages\n",
      "Calculating y(time) for 451 messages\n",
      "Calculating y(time) for 601 messages\n",
      "Calculating y(time) for 751 messages\n",
      "Calculating y(time) for 901 messages\n",
      "Calculating y(time) for 1051 messages\n",
      "Calculating y(time) for 1201 messages\n",
      "Calculating y(time) for 1351 messages\n",
      "Calculating y(time) for 1501 messages\n",
      "Calculating y(time) for 1651 messages\n",
      "Calculating y(time) for 1801 messages\n",
      "Calculating y(time) for 1951 messages\n",
      "x range(1, 2001, 150)\n",
      "y [0.0003099699999893346, 1.262121681999929, 4.044841763000022, 8.645247910999956, 15.074330356000019, 22.372796919000052, 33.142331238, 46.15836336999996, 57.49261715099999, 79.80544025999995, 95.25916840399998, 114.63613260000011, 138.25853492300007, 162.7229915559999]\n"
     ]
    }
   ],
   "source": [
    "#We crate x and y\n",
    "x = range(1,2001,150) #Number of messages to check\n",
    "y_1 = []\n",
    "for i in x:\n",
    "    print(\"Calculating y(time) for\",i,\"messages\")\n",
    "    y_1.append(time_brute_force_similarities(messages,i,3)) #Time it takes to check\n",
    "print(\"x\",x)\n",
    "print(\"y\",y_1)"
   ]
  },
  {
   "cell_type": "code",
   "execution_count": 35,
   "metadata": {},
   "outputs": [
    {
     "data": {
      "image/png": "[encoded data removed]",
      "text/plain": [
       "<Figure size 432x288 with 1 Axes>"
      ]
     },
     "metadata": {
      "needs_background": "light"
     },
     "output_type": "display_data"
    }
   ],
   "source": [
    "#We plot x and y\n",
    "#The color is only to decorate\n",
    "plt.plot(x,y_1,color = \"skyblue\", linewidth=2, markersize=12)\n",
    "plt.xlabel(\"Number of documents\")\n",
    "plt.ylabel(\"Time\")\n",
    "plt.show()"
   ]
  },
  {
   "cell_type": "markdown",
   "metadata": {},
   "source": [
    "#### (1)\n",
    "As we can see in the plot is seems to have a exponential/quadratic relation, so that is telling to us that this algorithm limited asymptomatically with the reason of **O(n^2)**, so this is a lot of time when the number of messages is substantially large.\n",
    "\n",
    "#### (2)\n",
    "If we think in a matrix of m columns (documents/messages) and n rows (n_grams) we have a algorithm limited asymptomatically with the reason of **O[m*(n^2)]** this means that with 10000 documents with 70000 number of n_grams in each document our algorithm of brute force has to make 700,000,000 steps. If we aproximate saying that 1 step is equal to 1ms this mean that we need **194.44 hours**, and we are talking only of 10000 documents. It is clear that brute force here is not very scalable, so maybe we have to change the strategy.\n"
   ]
  },
  {
   "cell_type": "markdown",
   "metadata": {},
   "source": [
    "# 4. Computing the doc-ngram matrix"
   ]
  },
  {
   "cell_type": "markdown",
   "metadata": {},
   "source": [
    "## 4.1 Create list of all ngrams"
   ]
  },
  {
   "cell_type": "code",
   "execution_count": 16,
   "metadata": {},
   "outputs": [
    {
     "name": "stdout",
     "output_type": "stream",
     "text": [
      "There are 70163 distinct ngrams in the 10000 documents\n"
     ]
    }
   ],
   "source": [
    "NGRAM_SIZE = 3\n",
    "\n",
    "ngram_to_index = {}\n",
    "index_to_ngram = {}\n",
    "next_index = 0\n",
    "\n",
    "\n",
    "for message in messages:\n",
    "    all_ngrams = ngrams(message, NGRAM_SIZE)\n",
    "    for ngram in all_ngrams:\n",
    "        #If n_gram didn't apear add it to the dictionaries\n",
    "        if ngram not in ngram_to_index:\n",
    "            ngram_to_index[ngram] = next_index\n",
    "            index_to_ngram[next_index] = ngram\n",
    "            next_index += 1\n",
    "        \n",
    "            \n",
    "num_distinct_ngrams = next_index\n",
    "\n",
    "print(\"There are %d distinct ngrams in the %d documents\" % (num_distinct_ngrams, len(messages)))"
   ]
  },
  {
   "cell_type": "code",
   "execution_count": 17,
   "metadata": {},
   "outputs": [
    {
     "name": "stdout",
     "output_type": "stream",
     "text": [
      "983\n",
      "tancat escoles fins\n"
     ]
    }
   ],
   "source": [
    "#Testing the ngram_to_index structure\n",
    "print(ngram_to_index[\"tancat escoles fins\"])\n",
    "print(index_to_ngram[ngram_to_index[\"tancat escoles fins\"]])"
   ]
  },
  {
   "cell_type": "markdown",
   "metadata": {},
   "source": [
    "## 2.2 Create table ngrams x documents"
   ]
  },
  {
   "cell_type": "code",
   "execution_count": 18,
   "metadata": {},
   "outputs": [
    {
     "name": "stdout",
     "output_type": "stream",
     "text": [
      "Rows: 70163 (distinct shingles)\n",
      "Columns: 10000 (distinct documents)\n"
     ]
    }
   ],
   "source": [
    "# Leave this code as-is\n",
    "\n",
    "# Create matrix filled with boolean False\n",
    "M_ngram_doc = np.full((num_distinct_ngrams, len(messages)), False)\n",
    "\n",
    "# Print number of rows and columns\n",
    "print(\"Rows: %d (distinct shingles)\" % len(M_ngram_doc))\n",
    "print(\"Columns: %d (distinct documents)\" % len(M_ngram_doc[0]))"
   ]
  },
  {
   "cell_type": "code",
   "execution_count": 19,
   "metadata": {},
   "outputs": [],
   "source": [
    "ngram_size = NGRAM_SIZE\n",
    "\n",
    "for docid in range(len(messages)):\n",
    "    message = messages[docid]\n",
    "    all_ngrams = ngrams(message, ngram_size)\n",
    "    for ngram in all_ngrams:\n",
    "        #we add a true value in the row that is the index of the ngram\n",
    "        M_ngram_doc[ngram_to_index[ngram]][docid] = True"
   ]
  },
  {
   "cell_type": "code",
   "execution_count": 20,
   "metadata": {},
   "outputs": [
    {
     "name": "stdout",
     "output_type": "stream",
     "text": [
      "Positions of non-zeros in column of docid 9602 of M_ngram_doc\n",
      "Clean message:\n",
      "rt emergenciescat que puc fer i que no faqs del coronavirus a 14 de marc si us plau demanem difusio \n",
      "Non-zeros in corresponding row:\n",
      "['684 rt emergenciescat que', '956 si us plau', '1275 emergenciescat que puc', '1276 que puc fer', '1277 puc fer que', '1278 fer que no', '2683 14 de marc', '40898 que no faqs', '40899 no faqs del', '40900 faqs del coronavirus', '40901 del coronavirus 14', '40902 coronavirus 14 de', '40903 de marc si', '40904 marc si us', '40905 us plau demanem', '40906 plau demanem difusio'] \n",
      "\n",
      "Positions of non-zeros in column of docid 941 of M_ngram_doc\n",
      "Clean message:\n",
      "rt hospiolot usem de forma responsable els recursos sanitaris061 urgencies per coronavirus i sanitaries012 consultes general\n",
      "Non-zeros in corresponding row:\n",
      "['1541 usem de forma', '1542 de forma responsable', '1543 forma responsable els', '1544 responsable els recursos', '1545 els recursos sanitaris061', '1546 recursos sanitaris061 urgencies', '1547 sanitaris061 urgencies per', '1548 urgencies per coronavirus', '1549 per coronavirus sanitaries012', '1550 coronavirus sanitaries012 consultes', '10729 rt hospiolot usem', '10730 hospiolot usem de', '10731 sanitaries012 consultes general']\n"
     ]
    }
   ],
   "source": [
    "#Testing the M_ngram_doc matrix by printing rows 9602 and 941\n",
    "\n",
    "print(\"Positions of non-zeros in column of docid 9602 of M_ngram_doc\")\n",
    "print(\"Clean message:\")\n",
    "print(clean(messages[9602]))\n",
    "print(\"Non-zeros in corresponding row:\")\n",
    "values = []\n",
    "for i,boole in enumerate([row[9602] for row in M_ngram_doc]):\n",
    "    if boole:\n",
    "        values.append(str(str(i) + \" \" + index_to_ngram[i]))\n",
    "print(values,\"\\n\")\n",
    "\n",
    "print(\"Positions of non-zeros in column of docid 941 of M_ngram_doc\")\n",
    "print(\"Clean message:\")\n",
    "print(clean(messages[941]))\n",
    "print(\"Non-zeros in corresponding row:\")\n",
    "values = []\n",
    "for i,boole in enumerate([row[941] for row in M_ngram_doc]):\n",
    "    if boole:\n",
    "        values.append(str(str(i) + \" \" + index_to_ngram[i]))\n",
    "print(values)"
   ]
  },
  {
   "cell_type": "markdown",
   "metadata": {},
   "source": [
    "# 3. Implement a permutation generator"
   ]
  },
  {
   "cell_type": "code",
   "execution_count": 21,
   "metadata": {},
   "outputs": [],
   "source": [
    "#We load the random library\n",
    "import random\n",
    "\n",
    "def random_permutation(k):\n",
    "    \"\"\"\n",
    "    This function generate a random permutation of k elements\n",
    "    \"\"\"\n",
    "    #We create the list\n",
    "    rand_per = list(range(k))\n",
    "    #We shuffle the list\n",
    "    random.shuffle(rand_per)\n",
    "    return rand_per"
   ]
  },
  {
   "cell_type": "code",
   "execution_count": 22,
   "metadata": {},
   "outputs": [
    {
     "name": "stdout",
     "output_type": "stream",
     "text": [
      "Test one permutation:\n",
      "['d', 'a', 'b', 'e', 'c']\n",
      "['delta', 'alpha', 'beta', 'epsilon', 'gamma']\n",
      "\n",
      "Test another permutation\n",
      "['b', 'a', 'd', 'e', 'c']\n",
      "['beta', 'alpha', 'delta', 'epsilon', 'gamma']\n"
     ]
    }
   ],
   "source": [
    "# Leave this code as-is\n",
    "\n",
    "# Permute a list according to a permutation\n",
    "def permuter(original_list, permutation):\n",
    "    permuted_list = []\n",
    "    for index in permutation:\n",
    "        permuted_list.append(original_list[index])\n",
    "    return permuted_list\n",
    "\n",
    "# Code for testing permutations\n",
    "original_list_1 = [\"a\", \"b\", \"c\", \"d\", \"e\"]\n",
    "original_list_2 = [\"alpha\", \"beta\", \"gamma\", \"delta\", \"epsilon\"]\n",
    "\n",
    "print(\"Test one permutation:\")\n",
    "permutation_1 = random_permutation(5)\n",
    "print(permuter(original_list_1, permutation_1))\n",
    "print(permuter(original_list_2, permutation_1))\n",
    "\n",
    "print()\n",
    "\n",
    "print(\"Test another permutation\")\n",
    "permutation_2 = random_permutation(5)\n",
    "print(permuter(original_list_1, permutation_2))\n",
    "print(permuter(original_list_2, permutation_2))"
   ]
  },
  {
   "cell_type": "markdown",
   "metadata": {},
   "source": [
    "# 4. Compute the signature of each document"
   ]
  },
  {
   "cell_type": "code",
   "execution_count": 23,
   "metadata": {},
   "outputs": [
    {
     "name": "stdout",
     "output_type": "stream",
     "text": [
      "Permutation 0: 45480, 10982, 38913, ...\n",
      "Permutation 1: 47701, 5714, 35698, ...\n",
      "Permutation 2: 50583, 53229, 57945, ...\n",
      "Permutation 3: 24221, 15695, 21637, ...\n"
     ]
    }
   ],
   "source": [
    "# Leave this code as-is\n",
    "\n",
    "NUM_PERMUTATIONS = 4\n",
    "\n",
    "permutations = []\n",
    "\n",
    "# Create the permutations\n",
    "for i in range(NUM_PERMUTATIONS):\n",
    "    permutation = random_permutation(num_distinct_ngrams)\n",
    "    permutations.append(random_permutation(num_distinct_ngrams))\n",
    "    \n",
    "# Visualize the permutations by printing their first 3 elements\n",
    "for i in range(len(permutations)):\n",
    "    permutation = permutations[i]\n",
    "    print(\"Permutation %d: %d, %d, %d, ...\" % (i, permutation[0], permutation[1], permutation[2] ))"
   ]
  },
  {
   "cell_type": "code",
   "execution_count": 24,
   "metadata": {},
   "outputs": [
    {
     "name": "stdout",
     "output_type": "stream",
     "text": [
      "Creating signatures for permutation 1/4\n",
      "- Scanning document 0 of 10000\n",
      "- Scanning document 1000 of 10000\n",
      "- Scanning document 2000 of 10000\n",
      "- Scanning document 3000 of 10000\n",
      "- Scanning document 4000 of 10000\n",
      "- Scanning document 5000 of 10000\n",
      "- Scanning document 6000 of 10000\n",
      "- Scanning document 7000 of 10000\n",
      "- Scanning document 8000 of 10000\n",
      "- Scanning document 9000 of 10000\n",
      "Creating signatures for permutation 2/4\n",
      "- Scanning document 0 of 10000\n",
      "- Scanning document 1000 of 10000\n",
      "- Scanning document 2000 of 10000\n",
      "- Scanning document 3000 of 10000\n",
      "- Scanning document 4000 of 10000\n",
      "- Scanning document 5000 of 10000\n",
      "- Scanning document 6000 of 10000\n",
      "- Scanning document 7000 of 10000\n",
      "- Scanning document 8000 of 10000\n",
      "- Scanning document 9000 of 10000\n",
      "Creating signatures for permutation 3/4\n",
      "- Scanning document 0 of 10000\n",
      "- Scanning document 1000 of 10000\n",
      "- Scanning document 2000 of 10000\n",
      "- Scanning document 3000 of 10000\n",
      "- Scanning document 4000 of 10000\n",
      "- Scanning document 5000 of 10000\n",
      "- Scanning document 6000 of 10000\n",
      "- Scanning document 7000 of 10000\n",
      "- Scanning document 8000 of 10000\n",
      "- Scanning document 9000 of 10000\n",
      "Creating signatures for permutation 4/4\n",
      "- Scanning document 0 of 10000\n",
      "- Scanning document 1000 of 10000\n",
      "- Scanning document 2000 of 10000\n",
      "- Scanning document 3000 of 10000\n",
      "- Scanning document 4000 of 10000\n",
      "- Scanning document 5000 of 10000\n",
      "- Scanning document 6000 of 10000\n",
      "- Scanning document 7000 of 10000\n",
      "- Scanning document 8000 of 10000\n",
      "- Scanning document 9000 of 10000\n"
     ]
    }
   ],
   "source": [
    "M_signature_doc = np.full((NUM_PERMUTATIONS, len(messages)), np.nan)\n",
    "# Find the first ngram in a document, according to a permutation\n",
    "def find_first_one(docid, permutation):\n",
    "    for shingle_id in permutation:\n",
    "        if M_ngram_doc[shingle_id, docid] == True:\n",
    "            return shingle_id\n",
    "    return -1\n",
    "\n",
    "# Create permutations\n",
    "for permutation_num in range(NUM_PERMUTATIONS):\n",
    "    print(\"Creating signatures for permutation %d/%d\" % (permutation_num+1, NUM_PERMUTATIONS))\n",
    "    permutation = permutations[permutation_num]\n",
    "    for docid in range(len(messages)):\n",
    "        if docid % 1000 == 0:\n",
    "            print(\"- Scanning document %d of %d\" % (docid, len(messages)))\n",
    "        #We take the the first ngram (the \"minimum\" one) \n",
    "        min_has = find_first_one(docid,permutation)\n",
    "        #We put in the row that correspond to the permutation and \n",
    "        #The corresponding doc id the min has value\n",
    "        M_signature_doc[permutation_num][docid] = min_has\n",
    "        \n",
    "        "
   ]
  },
  {
   "cell_type": "code",
   "execution_count": 25,
   "metadata": {},
   "outputs": [
    {
     "name": "stdout",
     "output_type": "stream",
     "text": [
      "Document #84\n",
      "Message       : RT @emergenciescat: ⚠️ Es demana a la ciutadania limitar al màxim i, si es pot, EVITAR DESPLAÇAMENTS de cap de setmana. Tot el que sigui ma…\n",
      "Clean message : rt emergenciescat  es demana a la ciutadania limitar al maxim i si es pot evitar desplacaments de cap de setmana tot el que sigui ma\n",
      "Ngrams        : [274, 275, 276, 277, 278, 279, 280, 281, 282, 283, 284, 285, 286, 287, 288, 289, 290, 291, 292, 293, 294]\n",
      "Signature     : [279.0, 291.0, 279.0, 280.0]\n",
      "\n",
      "Document #6586\n",
      "Message       : RT @emergenciescat: ⚠️ El @govern demana a la ciutadania limitar al màxim i, si es pot, EVITAR DESPLAÇAMENTS innecessaris. Tot el que sigui…\n",
      "Clean message : rt emergenciescat  el govern demana a la ciutadania limitar al maxim i si es pot evitar desplacaments innecessaris tot el que sigui\n",
      "Ngrams        : [277, 278, 279, 280, 281, 282, 283, 284, 285, 292, 293, 329, 3009, 4286, 4287, 4288, 4289, 4290]\n",
      "Signature     : [279.0, 279.0, 279.0, 280.0]\n"
     ]
    }
   ],
   "source": [
    "# Leave this code as-is\n",
    "\n",
    "def extract_ngrams(docid):\n",
    "    #Hay que cambiar i por docid porque esta printeando la cosa equivocada\n",
    "    return [x for x in range(num_distinct_ngrams) if M_ngram_doc[x, docid] == True]\n",
    "\n",
    "def extract_signature(docid):\n",
    "    return [M_signature_doc[x, docid] for x in range(NUM_PERMUTATIONS)]\n",
    "\n",
    "def print_sig(messages, M_ngram_doc, M_signature_doc, i):\n",
    "    print(\"Document #%d\" % i)\n",
    "    print(\"Message       : %s\" % messages[i])\n",
    "    print(\"Clean message : %s\" % clean(messages[i]))\n",
    "    print(\"Ngrams        : %s\" % extract_ngrams(i))\n",
    "    print(\"Signature     : %s\" % extract_signature(i))\n",
    "\n",
    "        \n",
    "i = 84\n",
    "j = 6586\n",
    "\n",
    "print_sig(messages, M_ngram_doc, M_signature_doc, i )\n",
    "\n",
    "print()\n",
    "\n",
    "print_sig(messages, M_ngram_doc, M_signature_doc, j )"
   ]
  },
  {
   "cell_type": "markdown",
   "metadata": {},
   "source": [
    "# 5. Compare all pairs of signatures"
   ]
  },
  {
   "cell_type": "code",
   "execution_count": 26,
   "metadata": {},
   "outputs": [
    {
     "name": "stdout",
     "output_type": "stream",
     "text": [
      "0/10000 documents scanned\n",
      "The document 13 :\n",
      "Las matemáticas ayudan mucho.\n",
      "Por favor, hagámosles  caso.\n",
      "\n",
      "Quin és el pitjor escenari de la propagació del coronavirus a Catalunya i a Espanya, segons els models matemàtics? https://t.co/rdlIY1sroj\n",
      "Has 3 full matches with documents\n",
      "And has 63 partial matches with documents \n",
      "\n",
      "The document 16 :\n",
      "RT @emergenciescat: ⚠️ Es demana a la ciutadania limitar al màxim i, si es pot, EVITAR DESPLAÇAMENTS de cap de setmana. Tot el que sigui ma…\n",
      "Has 71 full matches with documents\n",
      "And has 20 partial matches with documents \n",
      "\n",
      "The document 19 :\n",
      "RT @emergenciescat: El comitè tècnic del Pla #PROCICAT  per evitar la propagació del #coronavirus ha proposat al Govern que ordeni el cessa…\n",
      "Has 0 full matches with documents\n",
      "And has 93 partial matches with documents \n",
      "\n",
      "The document 53 :\n",
      "RT @Oriol_Pintos: Sóc advocat laboralista. Davant aquesta situació d'incertesa jurídica generalitzada pel #Coronavirus que afecta i afectar…\n",
      "Has 57 full matches with documents\n",
      "And has 0 partial matches with documents \n",
      "\n",
      "The document 77 :\n",
      "RT @emergenciescat: ✅ Què puc fer i ⛔ què no si estic en una zona afectada pel confinament? \n",
      "\n",
      "#ProteccioCivil #Coronavirus https://t.co/lxz…\n",
      "Has 6 full matches with documents\n",
      "And has 177 partial matches with documents \n",
      "\n",
      "The document 166 :\n",
      "RT @yeyaboya: Les imatges de cues de cotxes sortint de Madrid són demencials. Quina irresponsabilitat. Quina mala gestió #COVID19\n",
      "Has 56 full matches with documents\n",
      "And has 0 partial matches with documents \n",
      "\n",
      "The document 328 :\n",
      "RT @QuimTorraiPla: Estem preparats per fer-ho. Cal que l’Estat accedeixi a aturar entrades i sortides als ports, aeroports i vies ferroviàr…\n",
      "Has 65 full matches with documents\n",
      "And has 0 partial matches with documents \n",
      "\n",
      "500/10000 documents scanned\n",
      "1000/10000 documents scanned\n",
      "1500/10000 documents scanned\n",
      "2000/10000 documents scanned\n",
      "2500/10000 documents scanned\n",
      "3000/10000 documents scanned\n",
      "3500/10000 documents scanned\n",
      "4000/10000 documents scanned\n",
      "4500/10000 documents scanned\n",
      "5000/10000 documents scanned\n",
      "The document 5109 :\n",
      "RT @CarlesHeredia: ⚠️ Namíbia, un país amb un sistema sanitari molt dèbil, anuncia els 2 primers casos de #coronavirus.\n",
      "\n",
      "Són 2 turistes esp…\n",
      "Has 66 full matches with documents\n",
      "And has 0 partial matches with documents \n",
      "\n",
      "The document 5117 :\n",
      "RT @QuimTorraiPla: He trucat el Lehendakari Urkullu per valorar l'avenç de la pandèmia del coronavirus i la resposta que cal donar-hi. Coin…\n",
      "Has 71 full matches with documents\n",
      "And has 0 partial matches with documents \n",
      "\n",
      "The document 5129 :\n",
      "RT @epaluzie: Una vergonya. 155 a Interior, Sanitat, Transports. Els qui no han fet el que calia quan tocava, ara a donar ordres perquè \"no…\n",
      "Has 54 full matches with documents\n",
      "And has 0 partial matches with documents \n",
      "\n",
      "The document 5271 :\n",
      "RT @QuimTorraiPla: Màxima difusió - i seguiment- a les recomanacions d’ @emergenciescat :\n",
      "Has 54 full matches with documents\n",
      "And has 0 partial matches with documents \n",
      "\n"
     ]
    }
   ],
   "source": [
    "is_possible_duplicate = {}\n",
    "\n",
    "# Iterate through all documents\n",
    "for docid1 in range(len(messages)):\n",
    "\n",
    "     # Do not examine again a document that is a possible duplicate\n",
    "    if docid not in is_possible_duplicate:\n",
    "\n",
    "        # Counters for full and partial signature matches\n",
    "        count_sig_full_matches = 0\n",
    "        count_sig_partial_matches = 0\n",
    "\n",
    "        # Extract the signature of the doc1\n",
    "        signature1 = extract_signature(docid1)\n",
    "        if docid1 % 500 == 0:\n",
    "            print(\"%d/%d documents scanned\" % (docid1, len(messages)))\n",
    "\n",
    "        # Iterate through documents with docid larger than doc1\n",
    "        for docid2 in range(docid1+1, len(messages)):\n",
    "\n",
    "            # If this has not already been marked as duplicate of another document\n",
    "            if docid2 not in is_possible_duplicate:\n",
    "\n",
    "                # Extract signature of doc2\n",
    "                signature2 = extract_signature(docid2)\n",
    "\n",
    "                # - Increase count_sig_full_matches and count_sig_partial_matches as needed\n",
    "                # - Include docid2 in is_possible_duplicate if needed\n",
    "                j_s = jaccard_similarity(signature1,signature2)\n",
    "                if j_s == 1:\n",
    "                    count_sig_full_matches += 1\n",
    "                    is_possible_duplicate[docid2] = j_s\n",
    "                if j_s > 0.2 and j_s < 1:\n",
    "                    count_sig_partial_matches += 1\n",
    "                    is_possible_duplicate[docid2] = j_s\n",
    "\n",
    "        # - If the number of partial matches plus full matches exceeds a threshold\n",
    "        #   print the document doc1 and indicate how many matches of each type it has\n",
    "        if (count_sig_full_matches + count_sig_partial_matches) > 50:\n",
    "            print(\"The document\",docid1,\":\")\n",
    "            print(messages[docid1])\n",
    "            print(\"Has\",count_sig_full_matches,\"full matches with documents\")\n",
    "            print(\"And has\",count_sig_partial_matches,\"partial matches with documents\",\"\\n\")"
   ]
  },
  {
   "cell_type": "markdown",
   "metadata": {},
   "source": [
    "As we can see for example with the doc 16 it has a lot of complete matches and not partial, because it seems to be a informative tweet of the state to explain the new lockdown rules, so maybe a lot of people retweeted this without changing only to inform their friends/family"
   ]
  },
  {
   "cell_type": "markdown",
   "metadata": {},
   "source": [
    "The document 77 it has a lot of partial marches and fewer complete, but for the content of the tweet seems to be a Questions and Answers to the state so maybe the people asked with the same structure or maybe there is a list of diferent tweets with the rules about what you can and you can not do."
   ]
  },
  {
   "cell_type": "markdown",
   "metadata": {},
   "source": [
    "<font size=\"+2\" color=\"blue\">Additional results: running time comparison</font>"
   ]
  },
  {
   "cell_type": "markdown",
   "metadata": {},
   "source": [
    "We are going to compare 4 different signature sizes to see the differences on time, and for this we have to create a function that takes the signature size and the number of documents and do the computation but we take only the time."
   ]
  },
  {
   "cell_type": "code",
   "execution_count": 27,
   "metadata": {},
   "outputs": [],
   "source": [
    "def time_signature_shinglin(n_docs, ngram_size, sign_size):\n",
    "    \"\"\"\n",
    "    This function compute the time to calculate the similarity using shinglin\n",
    "    \"\"\"\n",
    "    start = timer()\n",
    "    \n",
    "    permutations = []\n",
    "\n",
    "    # Create the permutations\n",
    "    for i in range(sign_size):\n",
    "        permutation = random_permutation(num_distinct_ngrams)\n",
    "        permutations.append(random_permutation(num_distinct_ngrams))\n",
    "             \n",
    "    M_signature_doc = np.full((sign_size, n_docs), np.nan)\n",
    "        \n",
    "    # Create permutations\n",
    "    for permutation_num in range(sign_size):\n",
    "        #print(\"Creating signatures for permutation %d/%d\" % (permutation_num+1, sign_size))\n",
    "        permutation = permutations[permutation_num]\n",
    "        for docid in range(n_docs):\n",
    "            #if docid % 1000 == 0:\n",
    "                #print(\"- Scanning document %d of %d\" % (docid, n_docs))\n",
    "            #We take the the first ngram (the \"minimum\" one) \n",
    "            min_has = find_first_one(docid,permutation)\n",
    "            #We put in the row that correspond to the permutation and \n",
    "            #The corresponding doc id the min has value\n",
    "            M_signature_doc[permutation_num][docid] = min_has\n",
    "        \n",
    "    is_possible_duplicate = {}\n",
    "\n",
    "    # Iterate through all documents\n",
    "    for docid1 in range(n_docs):\n",
    "\n",
    "         # Do not examine again a document that is a possible duplicate\n",
    "        if docid not in is_possible_duplicate:\n",
    "\n",
    "            # Counters for full and partial signature matches\n",
    "            count_sig_full_matches = 0\n",
    "            count_sig_partial_matches = 0\n",
    "\n",
    "            # Extract the signature of the doc1\n",
    "            signature1 = extract_signature(docid1)\n",
    "            #if docid1 % 500 == 0:\n",
    "                #print(\"%d/%d documents scanned\" % (docid1, len(messages)))\n",
    "\n",
    "            # Iterate through documents with docid larger than doc1\n",
    "            for docid2 in range(docid1+1, n_docs):\n",
    "\n",
    "                # If this has not already been marked as duplicate of another document\n",
    "                if docid2 not in is_possible_duplicate:\n",
    "\n",
    "                    # Extract signature of doc2\n",
    "                    signature2 = extract_signature(docid2)\n",
    "\n",
    "                    # - Increase count_sig_full_matches and count_sig_partial_matches as needed\n",
    "                    # - Include docid2 in is_possible_duplicate if needed\n",
    "                    j_s = jaccard_similarity(signature1,signature2)\n",
    "                    if j_s == 1:\n",
    "                        count_sig_full_matches += 1\n",
    "                        is_possible_duplicate[docid2] = j_s\n",
    "                    if j_s > 0.2 and j_s < 1:\n",
    "                        count_sig_partial_matches += 1\n",
    "                        is_possible_duplicate[docid2] = j_s\n",
    "        # - If the number of partial matches plus full matches exceeds a threshold\n",
    "        #   print the document doc1 and indicate how many matches of each type it has\n",
    "        if (count_sig_full_matches + count_sig_partial_matches) > 100:\n",
    "            print(\"The document\",docid1,\":\")\n",
    "            print(messages[docid1])\n",
    "            print(\"Has\",count_sig_full_matches,\"full matches with documents\")\n",
    "            print(\"And has\",count_sig_partial_matches,\"partial matches with documents\",\"\\n\")\n",
    "    \n",
    "    \n",
    "    end = timer()\n",
    "    return (end - start)"
   ]
  },
  {
   "cell_type": "code",
   "execution_count": 28,
   "metadata": {},
   "outputs": [
    {
     "name": "stdout",
     "output_type": "stream",
     "text": [
      "Calculating y(time) for 1 messages\n",
      "Calculating y(time) for 151 messages\n",
      "Calculating y(time) for 301 messages\n",
      "Calculating y(time) for 451 messages\n",
      "Calculating y(time) for 601 messages\n",
      "Calculating y(time) for 751 messages\n",
      "Calculating y(time) for 901 messages\n",
      "Calculating y(time) for 1051 messages\n",
      "Calculating y(time) for 1201 messages\n",
      "Calculating y(time) for 1351 messages\n",
      "Calculating y(time) for 1501 messages\n",
      "Calculating y(time) for 1651 messages\n",
      "Calculating y(time) for 1801 messages\n",
      "Calculating y(time) for 1951 messages\n",
      "x range(1, 2001, 150)\n",
      "y [0.2999991679998857, 2.187665268999808, 4.138944653999715, 6.527139383999838, 8.473677432000386, 11.658511201999772, 14.32532877299991, 14.970239845999913, 17.78700793600001, 21.427150571999846, 21.086315668000225, 24.833022659000108, 23.996303139000247, 23.48562280599981]\n"
     ]
    }
   ],
   "source": [
    "#We create x and y\n",
    "#We try with signature size of 2\n",
    "x = range(1,2001,150) #Number of messages to check\n",
    "y = []\n",
    "for i in x:\n",
    "    print(\"Calculating y(time) for\",i,\"messages\")\n",
    "    y.append(time_signature_shinglin(i,3,2)) #Time it takes to check\n",
    "print(\"x\",x)\n",
    "print(\"y\",y)"
   ]
  },
  {
   "cell_type": "code",
   "execution_count": 29,
   "metadata": {},
   "outputs": [
    {
     "name": "stdout",
     "output_type": "stream",
     "text": [
      "Calculating y(time) for 1 messages\n",
      "Calculating y(time) for 151 messages\n",
      "Calculating y(time) for 301 messages\n",
      "Calculating y(time) for 451 messages\n",
      "Calculating y(time) for 601 messages\n",
      "Calculating y(time) for 751 messages\n",
      "Calculating y(time) for 901 messages\n",
      "Calculating y(time) for 1051 messages\n",
      "Calculating y(time) for 1201 messages\n",
      "Calculating y(time) for 1351 messages\n",
      "Calculating y(time) for 1501 messages\n",
      "Calculating y(time) for 1651 messages\n",
      "Calculating y(time) for 1801 messages\n",
      "Calculating y(time) for 1951 messages\n",
      "x range(1, 2001, 150)\n",
      "y1 [0.40380794000020614, 3.9610869409998486, 7.523433126999862, 11.939966576999723, 18.713059266999608, 21.17242136599998, 26.889571717000308, 30.545218853999813, 31.45398503599972, 36.89132997200022, 40.446576585, 44.70473072100003, 45.19515996100017, 53.08624477600006]\n"
     ]
    }
   ],
   "source": [
    "#We try with signature size of 4\n",
    "y1 = []\n",
    "for i in x:\n",
    "    print(\"Calculating y(time) for\",i,\"messages\")\n",
    "    y1.append(time_signature_shinglin(i,3,4)) #Time it takes to check\n",
    "print(\"x\",x)\n",
    "print(\"y1\",y1)"
   ]
  },
  {
   "cell_type": "code",
   "execution_count": 30,
   "metadata": {},
   "outputs": [
    {
     "name": "stdout",
     "output_type": "stream",
     "text": [
      "Calculating y(time) for 1 messages\n",
      "Calculating y(time) for 151 messages\n",
      "Calculating y(time) for 301 messages\n",
      "Calculating y(time) for 451 messages\n",
      "Calculating y(time) for 601 messages\n",
      "Calculating y(time) for 751 messages\n",
      "Calculating y(time) for 901 messages\n",
      "Calculating y(time) for 1051 messages\n",
      "Calculating y(time) for 1201 messages\n",
      "Calculating y(time) for 1351 messages\n",
      "Calculating y(time) for 1501 messages\n",
      "Calculating y(time) for 1651 messages\n",
      "Calculating y(time) for 1801 messages\n",
      "Calculating y(time) for 1951 messages\n",
      "x range(1, 2001, 150)\n",
      "y1 [0.40380794000020614, 3.9610869409998486, 7.523433126999862, 11.939966576999723, 18.713059266999608, 21.17242136599998, 26.889571717000308, 30.545218853999813, 31.45398503599972, 36.89132997200022, 40.446576585, 44.70473072100003, 45.19515996100017, 53.08624477600006]\n"
     ]
    }
   ],
   "source": [
    "#We try with signature size of 6\n",
    "y2 = []\n",
    "for i in x:\n",
    "    print(\"Calculating y(time) for\",i,\"messages\")\n",
    "    y2.append(time_signature_shinglin(i,3,6)) #Time it takes to check\n",
    "print(\"x\",x)\n",
    "print(\"y1\",y1)"
   ]
  },
  {
   "cell_type": "code",
   "execution_count": 34,
   "metadata": {},
   "outputs": [
    {
     "data": {
      "image/png": "[encoded data removed]",
      "text/plain": [
       "<Figure size 432x288 with 1 Axes>"
      ]
     },
     "metadata": {
      "needs_background": "light"
     },
     "output_type": "display_data"
    }
   ],
   "source": [
    "#We plot x and y\n",
    "#The color is to difference the signature size\n",
    "plt.plot(x,y,color = \"skyblue\", linewidth=2, markersize=12,label=\"Signature Size 2\")\n",
    "plt.plot(x,y1,color = \"green\", linewidth=2, markersize=12,label=\"Signature Size 4\")\n",
    "plt.plot(x,y2,color = \"yellow\", linewidth=2, markersize=12,label=\"Signature Size 6\")\n",
    "plt.plot(x,y_1,color = \"red\", linewidth=2, markersize=12,label=\"Brute Force\")\n",
    "plt.legend()\n",
    "plt.xlabel(\"Number of documents\")\n",
    "plt.ylabel(\"Time\")\n",
    "plt.show()"
   ]
  },
  {
   "cell_type": "markdown",
   "metadata": {},
   "source": [
    "As we can see there is a big difference in terms of time between signature algorithm and brute force"
   ]
  },
  {
   "cell_type": "markdown",
   "metadata": {},
   "source": [
    "<font size=\"+2\" color=\"#003300\">I hereby declare that, except for the code provided by the course instructors, all of my code, report, and figures were produced by myself.</font>"
   ]
  }
 ],
 "metadata": {
  "kernelspec": {
   "display_name": "Python 3",
   "language": "python",
   "name": "python3"
  },
  "language_info": {
   "codemirror_mode": {
    "name": "ipython",
    "version": 3
   },
   "file_extension": ".py",
   "mimetype": "text/x-python",
   "name": "python",
   "nbconvert_exporter": "python",
   "pygments_lexer": "ipython3",
   "version": "3.7.6"
  }
 },
 "nbformat": 4,
 "nbformat_minor": 2
}
